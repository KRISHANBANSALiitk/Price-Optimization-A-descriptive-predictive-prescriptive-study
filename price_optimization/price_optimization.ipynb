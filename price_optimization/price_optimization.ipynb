{
  "cells": [
    {
      "cell_type": "markdown",
      "metadata": {
        "id": "view-in-github",
        "colab_type": "text"
      },
      "source": [
        "<a href=\"https://colab.research.google.com/github/KRISHANBANSALiitk/Price-Optimization-A-descriptive-predictive-prescriptive-study/blob/main/price_optimization/price_optimization.ipynb\" target=\"_parent\"><img src=\"https://colab.research.google.com/assets/colab-badge.svg\" alt=\"Open In Colab\"/></a>"
      ]
    },
    {
      "cell_type": "markdown",
      "id": "7f7d69f9",
      "metadata": {
        "id": "7f7d69f9"
      },
      "source": [
        "# How Much Is Too Much? Avocado Pricing and Supply Using Mathematical Optimization\n",
        "\n",
        "A [Food Network article](https://www.foodnetwork.com/fn-dish/news/2018/3/avocado-unseats-banana-as-america-s-top-fruit-import-by-value) from March 2017 declared, \"Avocado unseats banana as America's top fruit import.\" This declaration is incomplete and debatable for reasons other than whether  avocado is a fruit. Avocados are expensive.\n",
        "\n",
        "As a supplier, setting an appropriate avocado price requires a delicate trade-off.\n",
        "Set it too high and you lose customers. Set it too low and you won't make a profit.\n",
        "Equipped with good data, the avocado pricing and supply problem is *ripe* with opportunities for demonstrating the power of optimization and data science.\n",
        "\n",
        "They say when life gives you avocados, make guacamole.\n",
        "Just like the perfect guacamole needs the right blend of onion, lemon and spices, finding an optimal avocado price needs the right blend of descriptive, predictive and prescriptive analytics.\n",
        "\n",
        "|<img src=\"https://github.com/Gurobi/modeling-examples/blob/master/price_optimization/avocado_image_grocery.jpeg?raw=1\" width=\"500\" align=\"center\">|\n",
        "|:--:|\n",
        "| <b>Avocados: a quintessential corner of a grocery store. Image Credits: [New York Post](https://nypost.com/2022/02/15/us-will-halt-mexico-avocado-imports-as-long-as-necessary/) </b>|\n",
        "\n",
        "\n",
        "**Goal**: Develop a data science pipeline for pricing and distribution of avocados to maximize revenue.\n",
        "\n",
        "This notebook walks through a decision-making pipeline that culminates in a mathematical optimization model.\n",
        "There are three stages:\n",
        "- First, understand the dataset and infer the relationships between categories such as the sales, price, region, and seasonal trends.\n",
        "- Second, build a prediction model that predicts the demand for avocados as a function of price, region, year and the seasonality.\n",
        "- Third, design an optimization problem that sets the optimal price and supply quantity to maximize the net revenue while incorporating costs for wastage and transportation.\n"
      ]
    },
    {
      "cell_type": "markdown",
      "id": "2e5dc427",
      "metadata": {
        "id": "2e5dc427"
      },
      "source": [
        "## Load the Packages and the Datasets\n",
        "\n",
        "We use real sales data provided by the [Hass Avocado Board](https://hassavocadoboard.com/) (HAB), whose aim is to \"make avocados America’s most popular fruit\". This dataset contains consolidated information on several years' worth of market prices and sales of avocados.\n",
        "\n",
        "We will now load the following packages for analyzing and visualizing the data."
      ]
    },
    {
      "cell_type": "code",
      "execution_count": 1,
      "id": "d0d518e0-8f9f-465e-a8da-3b66c1e3761e",
      "metadata": {
        "colab": {
          "base_uri": "https://localhost:8080/"
        },
        "id": "d0d518e0-8f9f-465e-a8da-3b66c1e3761e",
        "outputId": "9a5aa358-cde0-4d4e-a544-e6903c34e2ca"
      },
      "outputs": [
        {
          "output_type": "stream",
          "name": "stdout",
          "text": [
            "Collecting gurobipy\n",
            "  Downloading gurobipy-12.0.3-cp311-cp311-manylinux2014_x86_64.manylinux_2_17_x86_64.whl.metadata (16 kB)\n",
            "Downloading gurobipy-12.0.3-cp311-cp311-manylinux2014_x86_64.manylinux_2_17_x86_64.whl (14.5 MB)\n",
            "\u001b[2K   \u001b[90m━━━━━━━━━━━━━━━━━━━━━━━━━━━━━━━━━━━━━━━━\u001b[0m \u001b[32m14.5/14.5 MB\u001b[0m \u001b[31m46.2 MB/s\u001b[0m eta \u001b[36m0:00:00\u001b[0m\n",
            "\u001b[?25hInstalling collected packages: gurobipy\n",
            "Successfully installed gurobipy-12.0.3\n"
          ]
        }
      ],
      "source": [
        "%pip install gurobipy"
      ]
    },
    {
      "cell_type": "code",
      "execution_count": 2,
      "id": "3024295a",
      "metadata": {
        "id": "3024295a"
      },
      "outputs": [],
      "source": [
        "import pandas as pd\n",
        "import warnings\n",
        "warnings.filterwarnings(\"ignore\")\n",
        "import matplotlib.pyplot as plt\n",
        "from sklearn import tree\n",
        "import seaborn as sns\n",
        "import sklearn\n",
        "import numpy as np"
      ]
    },
    {
      "cell_type": "markdown",
      "id": "4537e1ae",
      "metadata": {
        "id": "4537e1ae"
      },
      "source": [
        "The dataset from HAB contains sales data for the years 2019-2022. This data is augmented by a previous download from HAB available on [Kaggle](https://www.kaggle.com/datasets/timmate/avocado-prices-2020) with sales for the years 2015-2018.\n",
        "\n",
        "Each row in the dataset is the weekly number of avocados sold and the weekly average price of an avocado categorized by region and type of avocado. There are two types of avocados: conventional and organic. In this notebook, we will only consider the conventional avocados.\n",
        "There are eight large regions, namely the Great Lakes, Midsouth, North East, Northern New England, South Central, South East, West and Plains.\n",
        "\n",
        "Now, load the data and store into a Pandas dataframe."
      ]
    },
    {
      "cell_type": "code",
      "execution_count": 3,
      "id": "d7ebd6bb",
      "metadata": {
        "colab": {
          "base_uri": "https://localhost:8080/",
          "height": 424
        },
        "id": "d7ebd6bb",
        "outputId": "90e68bb7-fa14-41b1-b4d1-3502775d4879"
      },
      "outputs": [
        {
          "output_type": "execute_result",
          "data": {
            "text/plain": [
              "           region          date          type     price  units_sold\n",
              "0     Great_Lakes   1/7/19 0:00  Conventional  1.106743  3812441.96\n",
              "1     Great_Lakes   1/7/19 0:00       Organic  1.371280   275987.52\n",
              "2     Great_Lakes  1/13/19 0:00  Conventional  1.063457  3843318.68\n",
              "3     Great_Lakes  1/13/19 0:00       Organic  1.493384   244991.95\n",
              "4     Great_Lakes  1/20/19 0:00  Conventional  1.049931  4587957.69\n",
              "...           ...           ...           ...       ...         ...\n",
              "6799         West      11/18/18       Organic  1.610000   334096.14\n",
              "6800         West      11/25/18  Conventional  1.240000  3260102.17\n",
              "6801         West      11/25/18       Organic  1.730000   268362.34\n",
              "6802         West       12/2/18  Conventional  1.200000  4594863.86\n",
              "6803         West       12/2/18       Organic  1.620000   268969.03\n",
              "\n",
              "[6804 rows x 5 columns]"
            ],
            "text/html": [
              "\n",
              "  <div id=\"df-5172b9f4-7af9-41e2-9840-59a998a26835\" class=\"colab-df-container\">\n",
              "    <div>\n",
              "<style scoped>\n",
              "    .dataframe tbody tr th:only-of-type {\n",
              "        vertical-align: middle;\n",
              "    }\n",
              "\n",
              "    .dataframe tbody tr th {\n",
              "        vertical-align: top;\n",
              "    }\n",
              "\n",
              "    .dataframe thead th {\n",
              "        text-align: right;\n",
              "    }\n",
              "</style>\n",
              "<table border=\"1\" class=\"dataframe\">\n",
              "  <thead>\n",
              "    <tr style=\"text-align: right;\">\n",
              "      <th></th>\n",
              "      <th>region</th>\n",
              "      <th>date</th>\n",
              "      <th>type</th>\n",
              "      <th>price</th>\n",
              "      <th>units_sold</th>\n",
              "    </tr>\n",
              "  </thead>\n",
              "  <tbody>\n",
              "    <tr>\n",
              "      <th>0</th>\n",
              "      <td>Great_Lakes</td>\n",
              "      <td>1/7/19 0:00</td>\n",
              "      <td>Conventional</td>\n",
              "      <td>1.106743</td>\n",
              "      <td>3812441.96</td>\n",
              "    </tr>\n",
              "    <tr>\n",
              "      <th>1</th>\n",
              "      <td>Great_Lakes</td>\n",
              "      <td>1/7/19 0:00</td>\n",
              "      <td>Organic</td>\n",
              "      <td>1.371280</td>\n",
              "      <td>275987.52</td>\n",
              "    </tr>\n",
              "    <tr>\n",
              "      <th>2</th>\n",
              "      <td>Great_Lakes</td>\n",
              "      <td>1/13/19 0:00</td>\n",
              "      <td>Conventional</td>\n",
              "      <td>1.063457</td>\n",
              "      <td>3843318.68</td>\n",
              "    </tr>\n",
              "    <tr>\n",
              "      <th>3</th>\n",
              "      <td>Great_Lakes</td>\n",
              "      <td>1/13/19 0:00</td>\n",
              "      <td>Organic</td>\n",
              "      <td>1.493384</td>\n",
              "      <td>244991.95</td>\n",
              "    </tr>\n",
              "    <tr>\n",
              "      <th>4</th>\n",
              "      <td>Great_Lakes</td>\n",
              "      <td>1/20/19 0:00</td>\n",
              "      <td>Conventional</td>\n",
              "      <td>1.049931</td>\n",
              "      <td>4587957.69</td>\n",
              "    </tr>\n",
              "    <tr>\n",
              "      <th>...</th>\n",
              "      <td>...</td>\n",
              "      <td>...</td>\n",
              "      <td>...</td>\n",
              "      <td>...</td>\n",
              "      <td>...</td>\n",
              "    </tr>\n",
              "    <tr>\n",
              "      <th>6799</th>\n",
              "      <td>West</td>\n",
              "      <td>11/18/18</td>\n",
              "      <td>Organic</td>\n",
              "      <td>1.610000</td>\n",
              "      <td>334096.14</td>\n",
              "    </tr>\n",
              "    <tr>\n",
              "      <th>6800</th>\n",
              "      <td>West</td>\n",
              "      <td>11/25/18</td>\n",
              "      <td>Conventional</td>\n",
              "      <td>1.240000</td>\n",
              "      <td>3260102.17</td>\n",
              "    </tr>\n",
              "    <tr>\n",
              "      <th>6801</th>\n",
              "      <td>West</td>\n",
              "      <td>11/25/18</td>\n",
              "      <td>Organic</td>\n",
              "      <td>1.730000</td>\n",
              "      <td>268362.34</td>\n",
              "    </tr>\n",
              "    <tr>\n",
              "      <th>6802</th>\n",
              "      <td>West</td>\n",
              "      <td>12/2/18</td>\n",
              "      <td>Conventional</td>\n",
              "      <td>1.200000</td>\n",
              "      <td>4594863.86</td>\n",
              "    </tr>\n",
              "    <tr>\n",
              "      <th>6803</th>\n",
              "      <td>West</td>\n",
              "      <td>12/2/18</td>\n",
              "      <td>Organic</td>\n",
              "      <td>1.620000</td>\n",
              "      <td>268969.03</td>\n",
              "    </tr>\n",
              "  </tbody>\n",
              "</table>\n",
              "<p>6804 rows × 5 columns</p>\n",
              "</div>\n",
              "    <div class=\"colab-df-buttons\">\n",
              "\n",
              "  <div class=\"colab-df-container\">\n",
              "    <button class=\"colab-df-convert\" onclick=\"convertToInteractive('df-5172b9f4-7af9-41e2-9840-59a998a26835')\"\n",
              "            title=\"Convert this dataframe to an interactive table.\"\n",
              "            style=\"display:none;\">\n",
              "\n",
              "  <svg xmlns=\"http://www.w3.org/2000/svg\" height=\"24px\" viewBox=\"0 -960 960 960\">\n",
              "    <path d=\"M120-120v-720h720v720H120Zm60-500h600v-160H180v160Zm220 220h160v-160H400v160Zm0 220h160v-160H400v160ZM180-400h160v-160H180v160Zm440 0h160v-160H620v160ZM180-180h160v-160H180v160Zm440 0h160v-160H620v160Z\"/>\n",
              "  </svg>\n",
              "    </button>\n",
              "\n",
              "  <style>\n",
              "    .colab-df-container {\n",
              "      display:flex;\n",
              "      gap: 12px;\n",
              "    }\n",
              "\n",
              "    .colab-df-convert {\n",
              "      background-color: #E8F0FE;\n",
              "      border: none;\n",
              "      border-radius: 50%;\n",
              "      cursor: pointer;\n",
              "      display: none;\n",
              "      fill: #1967D2;\n",
              "      height: 32px;\n",
              "      padding: 0 0 0 0;\n",
              "      width: 32px;\n",
              "    }\n",
              "\n",
              "    .colab-df-convert:hover {\n",
              "      background-color: #E2EBFA;\n",
              "      box-shadow: 0px 1px 2px rgba(60, 64, 67, 0.3), 0px 1px 3px 1px rgba(60, 64, 67, 0.15);\n",
              "      fill: #174EA6;\n",
              "    }\n",
              "\n",
              "    .colab-df-buttons div {\n",
              "      margin-bottom: 4px;\n",
              "    }\n",
              "\n",
              "    [theme=dark] .colab-df-convert {\n",
              "      background-color: #3B4455;\n",
              "      fill: #D2E3FC;\n",
              "    }\n",
              "\n",
              "    [theme=dark] .colab-df-convert:hover {\n",
              "      background-color: #434B5C;\n",
              "      box-shadow: 0px 1px 3px 1px rgba(0, 0, 0, 0.15);\n",
              "      filter: drop-shadow(0px 1px 2px rgba(0, 0, 0, 0.3));\n",
              "      fill: #FFFFFF;\n",
              "    }\n",
              "  </style>\n",
              "\n",
              "    <script>\n",
              "      const buttonEl =\n",
              "        document.querySelector('#df-5172b9f4-7af9-41e2-9840-59a998a26835 button.colab-df-convert');\n",
              "      buttonEl.style.display =\n",
              "        google.colab.kernel.accessAllowed ? 'block' : 'none';\n",
              "\n",
              "      async function convertToInteractive(key) {\n",
              "        const element = document.querySelector('#df-5172b9f4-7af9-41e2-9840-59a998a26835');\n",
              "        const dataTable =\n",
              "          await google.colab.kernel.invokeFunction('convertToInteractive',\n",
              "                                                    [key], {});\n",
              "        if (!dataTable) return;\n",
              "\n",
              "        const docLinkHtml = 'Like what you see? Visit the ' +\n",
              "          '<a target=\"_blank\" href=https://colab.research.google.com/notebooks/data_table.ipynb>data table notebook</a>'\n",
              "          + ' to learn more about interactive tables.';\n",
              "        element.innerHTML = '';\n",
              "        dataTable['output_type'] = 'display_data';\n",
              "        await google.colab.output.renderOutput(dataTable, element);\n",
              "        const docLink = document.createElement('div');\n",
              "        docLink.innerHTML = docLinkHtml;\n",
              "        element.appendChild(docLink);\n",
              "      }\n",
              "    </script>\n",
              "  </div>\n",
              "\n",
              "\n",
              "    <div id=\"df-b741bb6e-6aef-4d0e-90e1-bdf09af7022c\">\n",
              "      <button class=\"colab-df-quickchart\" onclick=\"quickchart('df-b741bb6e-6aef-4d0e-90e1-bdf09af7022c')\"\n",
              "                title=\"Suggest charts\"\n",
              "                style=\"display:none;\">\n",
              "\n",
              "<svg xmlns=\"http://www.w3.org/2000/svg\" height=\"24px\"viewBox=\"0 0 24 24\"\n",
              "     width=\"24px\">\n",
              "    <g>\n",
              "        <path d=\"M19 3H5c-1.1 0-2 .9-2 2v14c0 1.1.9 2 2 2h14c1.1 0 2-.9 2-2V5c0-1.1-.9-2-2-2zM9 17H7v-7h2v7zm4 0h-2V7h2v10zm4 0h-2v-4h2v4z\"/>\n",
              "    </g>\n",
              "</svg>\n",
              "      </button>\n",
              "\n",
              "<style>\n",
              "  .colab-df-quickchart {\n",
              "      --bg-color: #E8F0FE;\n",
              "      --fill-color: #1967D2;\n",
              "      --hover-bg-color: #E2EBFA;\n",
              "      --hover-fill-color: #174EA6;\n",
              "      --disabled-fill-color: #AAA;\n",
              "      --disabled-bg-color: #DDD;\n",
              "  }\n",
              "\n",
              "  [theme=dark] .colab-df-quickchart {\n",
              "      --bg-color: #3B4455;\n",
              "      --fill-color: #D2E3FC;\n",
              "      --hover-bg-color: #434B5C;\n",
              "      --hover-fill-color: #FFFFFF;\n",
              "      --disabled-bg-color: #3B4455;\n",
              "      --disabled-fill-color: #666;\n",
              "  }\n",
              "\n",
              "  .colab-df-quickchart {\n",
              "    background-color: var(--bg-color);\n",
              "    border: none;\n",
              "    border-radius: 50%;\n",
              "    cursor: pointer;\n",
              "    display: none;\n",
              "    fill: var(--fill-color);\n",
              "    height: 32px;\n",
              "    padding: 0;\n",
              "    width: 32px;\n",
              "  }\n",
              "\n",
              "  .colab-df-quickchart:hover {\n",
              "    background-color: var(--hover-bg-color);\n",
              "    box-shadow: 0 1px 2px rgba(60, 64, 67, 0.3), 0 1px 3px 1px rgba(60, 64, 67, 0.15);\n",
              "    fill: var(--button-hover-fill-color);\n",
              "  }\n",
              "\n",
              "  .colab-df-quickchart-complete:disabled,\n",
              "  .colab-df-quickchart-complete:disabled:hover {\n",
              "    background-color: var(--disabled-bg-color);\n",
              "    fill: var(--disabled-fill-color);\n",
              "    box-shadow: none;\n",
              "  }\n",
              "\n",
              "  .colab-df-spinner {\n",
              "    border: 2px solid var(--fill-color);\n",
              "    border-color: transparent;\n",
              "    border-bottom-color: var(--fill-color);\n",
              "    animation:\n",
              "      spin 1s steps(1) infinite;\n",
              "  }\n",
              "\n",
              "  @keyframes spin {\n",
              "    0% {\n",
              "      border-color: transparent;\n",
              "      border-bottom-color: var(--fill-color);\n",
              "      border-left-color: var(--fill-color);\n",
              "    }\n",
              "    20% {\n",
              "      border-color: transparent;\n",
              "      border-left-color: var(--fill-color);\n",
              "      border-top-color: var(--fill-color);\n",
              "    }\n",
              "    30% {\n",
              "      border-color: transparent;\n",
              "      border-left-color: var(--fill-color);\n",
              "      border-top-color: var(--fill-color);\n",
              "      border-right-color: var(--fill-color);\n",
              "    }\n",
              "    40% {\n",
              "      border-color: transparent;\n",
              "      border-right-color: var(--fill-color);\n",
              "      border-top-color: var(--fill-color);\n",
              "    }\n",
              "    60% {\n",
              "      border-color: transparent;\n",
              "      border-right-color: var(--fill-color);\n",
              "    }\n",
              "    80% {\n",
              "      border-color: transparent;\n",
              "      border-right-color: var(--fill-color);\n",
              "      border-bottom-color: var(--fill-color);\n",
              "    }\n",
              "    90% {\n",
              "      border-color: transparent;\n",
              "      border-bottom-color: var(--fill-color);\n",
              "    }\n",
              "  }\n",
              "</style>\n",
              "\n",
              "      <script>\n",
              "        async function quickchart(key) {\n",
              "          const quickchartButtonEl =\n",
              "            document.querySelector('#' + key + ' button');\n",
              "          quickchartButtonEl.disabled = true;  // To prevent multiple clicks.\n",
              "          quickchartButtonEl.classList.add('colab-df-spinner');\n",
              "          try {\n",
              "            const charts = await google.colab.kernel.invokeFunction(\n",
              "                'suggestCharts', [key], {});\n",
              "          } catch (error) {\n",
              "            console.error('Error during call to suggestCharts:', error);\n",
              "          }\n",
              "          quickchartButtonEl.classList.remove('colab-df-spinner');\n",
              "          quickchartButtonEl.classList.add('colab-df-quickchart-complete');\n",
              "        }\n",
              "        (() => {\n",
              "          let quickchartButtonEl =\n",
              "            document.querySelector('#df-b741bb6e-6aef-4d0e-90e1-bdf09af7022c button');\n",
              "          quickchartButtonEl.style.display =\n",
              "            google.colab.kernel.accessAllowed ? 'block' : 'none';\n",
              "        })();\n",
              "      </script>\n",
              "    </div>\n",
              "\n",
              "  <div id=\"id_42797d43-670b-4bff-82cc-b68c12066f34\">\n",
              "    <style>\n",
              "      .colab-df-generate {\n",
              "        background-color: #E8F0FE;\n",
              "        border: none;\n",
              "        border-radius: 50%;\n",
              "        cursor: pointer;\n",
              "        display: none;\n",
              "        fill: #1967D2;\n",
              "        height: 32px;\n",
              "        padding: 0 0 0 0;\n",
              "        width: 32px;\n",
              "      }\n",
              "\n",
              "      .colab-df-generate:hover {\n",
              "        background-color: #E2EBFA;\n",
              "        box-shadow: 0px 1px 2px rgba(60, 64, 67, 0.3), 0px 1px 3px 1px rgba(60, 64, 67, 0.15);\n",
              "        fill: #174EA6;\n",
              "      }\n",
              "\n",
              "      [theme=dark] .colab-df-generate {\n",
              "        background-color: #3B4455;\n",
              "        fill: #D2E3FC;\n",
              "      }\n",
              "\n",
              "      [theme=dark] .colab-df-generate:hover {\n",
              "        background-color: #434B5C;\n",
              "        box-shadow: 0px 1px 3px 1px rgba(0, 0, 0, 0.15);\n",
              "        filter: drop-shadow(0px 1px 2px rgba(0, 0, 0, 0.3));\n",
              "        fill: #FFFFFF;\n",
              "      }\n",
              "    </style>\n",
              "    <button class=\"colab-df-generate\" onclick=\"generateWithVariable('avocado')\"\n",
              "            title=\"Generate code using this dataframe.\"\n",
              "            style=\"display:none;\">\n",
              "\n",
              "  <svg xmlns=\"http://www.w3.org/2000/svg\" height=\"24px\"viewBox=\"0 0 24 24\"\n",
              "       width=\"24px\">\n",
              "    <path d=\"M7,19H8.4L18.45,9,17,7.55,7,17.6ZM5,21V16.75L18.45,3.32a2,2,0,0,1,2.83,0l1.4,1.43a1.91,1.91,0,0,1,.58,1.4,1.91,1.91,0,0,1-.58,1.4L9.25,21ZM18.45,9,17,7.55Zm-12,3A5.31,5.31,0,0,0,4.9,8.1,5.31,5.31,0,0,0,1,6.5,5.31,5.31,0,0,0,4.9,4.9,5.31,5.31,0,0,0,6.5,1,5.31,5.31,0,0,0,8.1,4.9,5.31,5.31,0,0,0,12,6.5,5.46,5.46,0,0,0,6.5,12Z\"/>\n",
              "  </svg>\n",
              "    </button>\n",
              "    <script>\n",
              "      (() => {\n",
              "      const buttonEl =\n",
              "        document.querySelector('#id_42797d43-670b-4bff-82cc-b68c12066f34 button.colab-df-generate');\n",
              "      buttonEl.style.display =\n",
              "        google.colab.kernel.accessAllowed ? 'block' : 'none';\n",
              "\n",
              "      buttonEl.onclick = () => {\n",
              "        google.colab.notebook.generateWithVariable('avocado');\n",
              "      }\n",
              "      })();\n",
              "    </script>\n",
              "  </div>\n",
              "\n",
              "    </div>\n",
              "  </div>\n"
            ],
            "application/vnd.google.colaboratory.intrinsic+json": {
              "type": "dataframe",
              "variable_name": "avocado",
              "summary": "{\n  \"name\": \"avocado\",\n  \"rows\": 6804,\n  \"fields\": [\n    {\n      \"column\": \"region\",\n      \"properties\": {\n        \"dtype\": \"category\",\n        \"num_unique_values\": 9,\n        \"samples\": [\n          \"Total_US\",\n          \"Midsouth\",\n          \"SouthCentral\"\n        ],\n        \"semantic_type\": \"\",\n        \"description\": \"\"\n      }\n    },\n    {\n      \"column\": \"date\",\n      \"properties\": {\n        \"dtype\": \"object\",\n        \"num_unique_values\": 378,\n        \"samples\": [\n          \"3/19/17\",\n          \"1/1/18\",\n          \"11/26/17\"\n        ],\n        \"semantic_type\": \"\",\n        \"description\": \"\"\n      }\n    },\n    {\n      \"column\": \"type\",\n      \"properties\": {\n        \"dtype\": \"category\",\n        \"num_unique_values\": 2,\n        \"samples\": [\n          \"Organic\",\n          \"Conventional\"\n        ],\n        \"semantic_type\": \"\",\n        \"description\": \"\"\n      }\n    },\n    {\n      \"column\": \"price\",\n      \"properties\": {\n        \"dtype\": \"number\",\n        \"std\": 0.3396856414393423,\n        \"min\": 0.6193928,\n        \"max\": 2.52,\n        \"num_unique_values\": 3262,\n        \"samples\": [\n          1.295729203,\n          1.348308991\n        ],\n        \"semantic_type\": \"\",\n        \"description\": \"\"\n      }\n    },\n    {\n      \"column\": \"units_sold\",\n      \"properties\": {\n        \"dtype\": \"number\",\n        \"std\": 8367621.006075292,\n        \"min\": 4574.17,\n        \"max\": 63716144.15,\n        \"num_unique_values\": 6786,\n        \"samples\": [\n          122388.94,\n          2047905.65\n        ],\n        \"semantic_type\": \"\",\n        \"description\": \"\"\n      }\n    }\n  ]\n}"
            }
          },
          "metadata": {},
          "execution_count": 3
        }
      ],
      "source": [
        "avocado = pd.read_csv('https://raw.githubusercontent.com/Gurobi/modeling-examples/master/price_optimization/HABdata_2019_2022.csv') # dataset downloaded directly from HAB\n",
        "# avocado = pd.read_csv('HABdata_2019_2022.csv') # dataset downloaded directly from HAB\n",
        "avocado_old = pd.read_csv('https://raw.githubusercontent.com/Gurobi/modeling-examples/master/price_optimization/kaggledata_till2018.csv') # dataset downloaded from Kaggle\n",
        "# avocado_old = pd.read_csv('kaggledata_till2018.csv') # dataset downloaded from Kaggle\n",
        "avocado = pd.concat([avocado, avocado_old], ignore_index=True)\n",
        "avocado"
      ]
    },
    {
      "cell_type": "markdown",
      "id": "68efc9c1",
      "metadata": {
        "id": "68efc9c1"
      },
      "source": [
        "## Prepare the Dataset\n",
        "\n",
        "We will now prepare the data for making sales predictions. Add new columns to the dataframe for the year and seasonality. Let each year from 2015 through 2022 be given an index from 0 through 7 in the increasing order of the year. We will define the peak season to be the months of February through July. These months are set based on visual inspection of the trends, but you can try setting other months."
      ]
    },
    {
      "cell_type": "code",
      "execution_count": 4,
      "id": "cd09a61a",
      "metadata": {
        "colab": {
          "base_uri": "https://localhost:8080/",
          "height": 424
        },
        "id": "cd09a61a",
        "outputId": "4fc24d64-3c55-44fa-e0ba-6a8992d753c2"
      },
      "outputs": [
        {
          "output_type": "execute_result",
          "data": {
            "text/plain": [
              "           date  units_sold     price                region  year  month  \\\n",
              "0    2015-01-04    3.382800  1.020000           Great_Lakes  2015      1   \n",
              "1    2015-01-04    2.578275  1.100000              Midsouth  2015      1   \n",
              "2    2015-01-04    5.794411  0.890000                  West  2015      1   \n",
              "3    2015-01-04    3.204112  0.980000             Southeast  2015      1   \n",
              "4    2015-01-04    0.321824  1.050000  Northern_New_England  2015      1   \n",
              "...         ...         ...       ...                   ...   ...    ...   \n",
              "3397 2022-05-15    4.150433  1.269883          SouthCentral  2022      5   \n",
              "3398 2022-05-15    4.668815  1.644873             Northeast  2022      5   \n",
              "3399 2022-05-15   32.745321  1.527357              Total_US  2022      5   \n",
              "3400 2022-05-15    3.542902  1.514583              Midsouth  2022      5   \n",
              "3401 2022-05-15    1.560202  1.541429                Plains  2022      5   \n",
              "\n",
              "      year_index  peak  \n",
              "0              0     0  \n",
              "1              0     0  \n",
              "2              0     0  \n",
              "3              0     0  \n",
              "4              0     0  \n",
              "...          ...   ...  \n",
              "3397           7     1  \n",
              "3398           7     1  \n",
              "3399           7     1  \n",
              "3400           7     1  \n",
              "3401           7     1  \n",
              "\n",
              "[3402 rows x 8 columns]"
            ],
            "text/html": [
              "\n",
              "  <div id=\"df-623d468d-b438-464d-8362-7617e23f713e\" class=\"colab-df-container\">\n",
              "    <div>\n",
              "<style scoped>\n",
              "    .dataframe tbody tr th:only-of-type {\n",
              "        vertical-align: middle;\n",
              "    }\n",
              "\n",
              "    .dataframe tbody tr th {\n",
              "        vertical-align: top;\n",
              "    }\n",
              "\n",
              "    .dataframe thead th {\n",
              "        text-align: right;\n",
              "    }\n",
              "</style>\n",
              "<table border=\"1\" class=\"dataframe\">\n",
              "  <thead>\n",
              "    <tr style=\"text-align: right;\">\n",
              "      <th></th>\n",
              "      <th>date</th>\n",
              "      <th>units_sold</th>\n",
              "      <th>price</th>\n",
              "      <th>region</th>\n",
              "      <th>year</th>\n",
              "      <th>month</th>\n",
              "      <th>year_index</th>\n",
              "      <th>peak</th>\n",
              "    </tr>\n",
              "  </thead>\n",
              "  <tbody>\n",
              "    <tr>\n",
              "      <th>0</th>\n",
              "      <td>2015-01-04</td>\n",
              "      <td>3.382800</td>\n",
              "      <td>1.020000</td>\n",
              "      <td>Great_Lakes</td>\n",
              "      <td>2015</td>\n",
              "      <td>1</td>\n",
              "      <td>0</td>\n",
              "      <td>0</td>\n",
              "    </tr>\n",
              "    <tr>\n",
              "      <th>1</th>\n",
              "      <td>2015-01-04</td>\n",
              "      <td>2.578275</td>\n",
              "      <td>1.100000</td>\n",
              "      <td>Midsouth</td>\n",
              "      <td>2015</td>\n",
              "      <td>1</td>\n",
              "      <td>0</td>\n",
              "      <td>0</td>\n",
              "    </tr>\n",
              "    <tr>\n",
              "      <th>2</th>\n",
              "      <td>2015-01-04</td>\n",
              "      <td>5.794411</td>\n",
              "      <td>0.890000</td>\n",
              "      <td>West</td>\n",
              "      <td>2015</td>\n",
              "      <td>1</td>\n",
              "      <td>0</td>\n",
              "      <td>0</td>\n",
              "    </tr>\n",
              "    <tr>\n",
              "      <th>3</th>\n",
              "      <td>2015-01-04</td>\n",
              "      <td>3.204112</td>\n",
              "      <td>0.980000</td>\n",
              "      <td>Southeast</td>\n",
              "      <td>2015</td>\n",
              "      <td>1</td>\n",
              "      <td>0</td>\n",
              "      <td>0</td>\n",
              "    </tr>\n",
              "    <tr>\n",
              "      <th>4</th>\n",
              "      <td>2015-01-04</td>\n",
              "      <td>0.321824</td>\n",
              "      <td>1.050000</td>\n",
              "      <td>Northern_New_England</td>\n",
              "      <td>2015</td>\n",
              "      <td>1</td>\n",
              "      <td>0</td>\n",
              "      <td>0</td>\n",
              "    </tr>\n",
              "    <tr>\n",
              "      <th>...</th>\n",
              "      <td>...</td>\n",
              "      <td>...</td>\n",
              "      <td>...</td>\n",
              "      <td>...</td>\n",
              "      <td>...</td>\n",
              "      <td>...</td>\n",
              "      <td>...</td>\n",
              "      <td>...</td>\n",
              "    </tr>\n",
              "    <tr>\n",
              "      <th>3397</th>\n",
              "      <td>2022-05-15</td>\n",
              "      <td>4.150433</td>\n",
              "      <td>1.269883</td>\n",
              "      <td>SouthCentral</td>\n",
              "      <td>2022</td>\n",
              "      <td>5</td>\n",
              "      <td>7</td>\n",
              "      <td>1</td>\n",
              "    </tr>\n",
              "    <tr>\n",
              "      <th>3398</th>\n",
              "      <td>2022-05-15</td>\n",
              "      <td>4.668815</td>\n",
              "      <td>1.644873</td>\n",
              "      <td>Northeast</td>\n",
              "      <td>2022</td>\n",
              "      <td>5</td>\n",
              "      <td>7</td>\n",
              "      <td>1</td>\n",
              "    </tr>\n",
              "    <tr>\n",
              "      <th>3399</th>\n",
              "      <td>2022-05-15</td>\n",
              "      <td>32.745321</td>\n",
              "      <td>1.527357</td>\n",
              "      <td>Total_US</td>\n",
              "      <td>2022</td>\n",
              "      <td>5</td>\n",
              "      <td>7</td>\n",
              "      <td>1</td>\n",
              "    </tr>\n",
              "    <tr>\n",
              "      <th>3400</th>\n",
              "      <td>2022-05-15</td>\n",
              "      <td>3.542902</td>\n",
              "      <td>1.514583</td>\n",
              "      <td>Midsouth</td>\n",
              "      <td>2022</td>\n",
              "      <td>5</td>\n",
              "      <td>7</td>\n",
              "      <td>1</td>\n",
              "    </tr>\n",
              "    <tr>\n",
              "      <th>3401</th>\n",
              "      <td>2022-05-15</td>\n",
              "      <td>1.560202</td>\n",
              "      <td>1.541429</td>\n",
              "      <td>Plains</td>\n",
              "      <td>2022</td>\n",
              "      <td>5</td>\n",
              "      <td>7</td>\n",
              "      <td>1</td>\n",
              "    </tr>\n",
              "  </tbody>\n",
              "</table>\n",
              "<p>3402 rows × 8 columns</p>\n",
              "</div>\n",
              "    <div class=\"colab-df-buttons\">\n",
              "\n",
              "  <div class=\"colab-df-container\">\n",
              "    <button class=\"colab-df-convert\" onclick=\"convertToInteractive('df-623d468d-b438-464d-8362-7617e23f713e')\"\n",
              "            title=\"Convert this dataframe to an interactive table.\"\n",
              "            style=\"display:none;\">\n",
              "\n",
              "  <svg xmlns=\"http://www.w3.org/2000/svg\" height=\"24px\" viewBox=\"0 -960 960 960\">\n",
              "    <path d=\"M120-120v-720h720v720H120Zm60-500h600v-160H180v160Zm220 220h160v-160H400v160Zm0 220h160v-160H400v160ZM180-400h160v-160H180v160Zm440 0h160v-160H620v160ZM180-180h160v-160H180v160Zm440 0h160v-160H620v160Z\"/>\n",
              "  </svg>\n",
              "    </button>\n",
              "\n",
              "  <style>\n",
              "    .colab-df-container {\n",
              "      display:flex;\n",
              "      gap: 12px;\n",
              "    }\n",
              "\n",
              "    .colab-df-convert {\n",
              "      background-color: #E8F0FE;\n",
              "      border: none;\n",
              "      border-radius: 50%;\n",
              "      cursor: pointer;\n",
              "      display: none;\n",
              "      fill: #1967D2;\n",
              "      height: 32px;\n",
              "      padding: 0 0 0 0;\n",
              "      width: 32px;\n",
              "    }\n",
              "\n",
              "    .colab-df-convert:hover {\n",
              "      background-color: #E2EBFA;\n",
              "      box-shadow: 0px 1px 2px rgba(60, 64, 67, 0.3), 0px 1px 3px 1px rgba(60, 64, 67, 0.15);\n",
              "      fill: #174EA6;\n",
              "    }\n",
              "\n",
              "    .colab-df-buttons div {\n",
              "      margin-bottom: 4px;\n",
              "    }\n",
              "\n",
              "    [theme=dark] .colab-df-convert {\n",
              "      background-color: #3B4455;\n",
              "      fill: #D2E3FC;\n",
              "    }\n",
              "\n",
              "    [theme=dark] .colab-df-convert:hover {\n",
              "      background-color: #434B5C;\n",
              "      box-shadow: 0px 1px 3px 1px rgba(0, 0, 0, 0.15);\n",
              "      filter: drop-shadow(0px 1px 2px rgba(0, 0, 0, 0.3));\n",
              "      fill: #FFFFFF;\n",
              "    }\n",
              "  </style>\n",
              "\n",
              "    <script>\n",
              "      const buttonEl =\n",
              "        document.querySelector('#df-623d468d-b438-464d-8362-7617e23f713e button.colab-df-convert');\n",
              "      buttonEl.style.display =\n",
              "        google.colab.kernel.accessAllowed ? 'block' : 'none';\n",
              "\n",
              "      async function convertToInteractive(key) {\n",
              "        const element = document.querySelector('#df-623d468d-b438-464d-8362-7617e23f713e');\n",
              "        const dataTable =\n",
              "          await google.colab.kernel.invokeFunction('convertToInteractive',\n",
              "                                                    [key], {});\n",
              "        if (!dataTable) return;\n",
              "\n",
              "        const docLinkHtml = 'Like what you see? Visit the ' +\n",
              "          '<a target=\"_blank\" href=https://colab.research.google.com/notebooks/data_table.ipynb>data table notebook</a>'\n",
              "          + ' to learn more about interactive tables.';\n",
              "        element.innerHTML = '';\n",
              "        dataTable['output_type'] = 'display_data';\n",
              "        await google.colab.output.renderOutput(dataTable, element);\n",
              "        const docLink = document.createElement('div');\n",
              "        docLink.innerHTML = docLinkHtml;\n",
              "        element.appendChild(docLink);\n",
              "      }\n",
              "    </script>\n",
              "  </div>\n",
              "\n",
              "\n",
              "    <div id=\"df-be14cdc0-0f91-4d01-9717-71a88ea0a6aa\">\n",
              "      <button class=\"colab-df-quickchart\" onclick=\"quickchart('df-be14cdc0-0f91-4d01-9717-71a88ea0a6aa')\"\n",
              "                title=\"Suggest charts\"\n",
              "                style=\"display:none;\">\n",
              "\n",
              "<svg xmlns=\"http://www.w3.org/2000/svg\" height=\"24px\"viewBox=\"0 0 24 24\"\n",
              "     width=\"24px\">\n",
              "    <g>\n",
              "        <path d=\"M19 3H5c-1.1 0-2 .9-2 2v14c0 1.1.9 2 2 2h14c1.1 0 2-.9 2-2V5c0-1.1-.9-2-2-2zM9 17H7v-7h2v7zm4 0h-2V7h2v10zm4 0h-2v-4h2v4z\"/>\n",
              "    </g>\n",
              "</svg>\n",
              "      </button>\n",
              "\n",
              "<style>\n",
              "  .colab-df-quickchart {\n",
              "      --bg-color: #E8F0FE;\n",
              "      --fill-color: #1967D2;\n",
              "      --hover-bg-color: #E2EBFA;\n",
              "      --hover-fill-color: #174EA6;\n",
              "      --disabled-fill-color: #AAA;\n",
              "      --disabled-bg-color: #DDD;\n",
              "  }\n",
              "\n",
              "  [theme=dark] .colab-df-quickchart {\n",
              "      --bg-color: #3B4455;\n",
              "      --fill-color: #D2E3FC;\n",
              "      --hover-bg-color: #434B5C;\n",
              "      --hover-fill-color: #FFFFFF;\n",
              "      --disabled-bg-color: #3B4455;\n",
              "      --disabled-fill-color: #666;\n",
              "  }\n",
              "\n",
              "  .colab-df-quickchart {\n",
              "    background-color: var(--bg-color);\n",
              "    border: none;\n",
              "    border-radius: 50%;\n",
              "    cursor: pointer;\n",
              "    display: none;\n",
              "    fill: var(--fill-color);\n",
              "    height: 32px;\n",
              "    padding: 0;\n",
              "    width: 32px;\n",
              "  }\n",
              "\n",
              "  .colab-df-quickchart:hover {\n",
              "    background-color: var(--hover-bg-color);\n",
              "    box-shadow: 0 1px 2px rgba(60, 64, 67, 0.3), 0 1px 3px 1px rgba(60, 64, 67, 0.15);\n",
              "    fill: var(--button-hover-fill-color);\n",
              "  }\n",
              "\n",
              "  .colab-df-quickchart-complete:disabled,\n",
              "  .colab-df-quickchart-complete:disabled:hover {\n",
              "    background-color: var(--disabled-bg-color);\n",
              "    fill: var(--disabled-fill-color);\n",
              "    box-shadow: none;\n",
              "  }\n",
              "\n",
              "  .colab-df-spinner {\n",
              "    border: 2px solid var(--fill-color);\n",
              "    border-color: transparent;\n",
              "    border-bottom-color: var(--fill-color);\n",
              "    animation:\n",
              "      spin 1s steps(1) infinite;\n",
              "  }\n",
              "\n",
              "  @keyframes spin {\n",
              "    0% {\n",
              "      border-color: transparent;\n",
              "      border-bottom-color: var(--fill-color);\n",
              "      border-left-color: var(--fill-color);\n",
              "    }\n",
              "    20% {\n",
              "      border-color: transparent;\n",
              "      border-left-color: var(--fill-color);\n",
              "      border-top-color: var(--fill-color);\n",
              "    }\n",
              "    30% {\n",
              "      border-color: transparent;\n",
              "      border-left-color: var(--fill-color);\n",
              "      border-top-color: var(--fill-color);\n",
              "      border-right-color: var(--fill-color);\n",
              "    }\n",
              "    40% {\n",
              "      border-color: transparent;\n",
              "      border-right-color: var(--fill-color);\n",
              "      border-top-color: var(--fill-color);\n",
              "    }\n",
              "    60% {\n",
              "      border-color: transparent;\n",
              "      border-right-color: var(--fill-color);\n",
              "    }\n",
              "    80% {\n",
              "      border-color: transparent;\n",
              "      border-right-color: var(--fill-color);\n",
              "      border-bottom-color: var(--fill-color);\n",
              "    }\n",
              "    90% {\n",
              "      border-color: transparent;\n",
              "      border-bottom-color: var(--fill-color);\n",
              "    }\n",
              "  }\n",
              "</style>\n",
              "\n",
              "      <script>\n",
              "        async function quickchart(key) {\n",
              "          const quickchartButtonEl =\n",
              "            document.querySelector('#' + key + ' button');\n",
              "          quickchartButtonEl.disabled = true;  // To prevent multiple clicks.\n",
              "          quickchartButtonEl.classList.add('colab-df-spinner');\n",
              "          try {\n",
              "            const charts = await google.colab.kernel.invokeFunction(\n",
              "                'suggestCharts', [key], {});\n",
              "          } catch (error) {\n",
              "            console.error('Error during call to suggestCharts:', error);\n",
              "          }\n",
              "          quickchartButtonEl.classList.remove('colab-df-spinner');\n",
              "          quickchartButtonEl.classList.add('colab-df-quickchart-complete');\n",
              "        }\n",
              "        (() => {\n",
              "          let quickchartButtonEl =\n",
              "            document.querySelector('#df-be14cdc0-0f91-4d01-9717-71a88ea0a6aa button');\n",
              "          quickchartButtonEl.style.display =\n",
              "            google.colab.kernel.accessAllowed ? 'block' : 'none';\n",
              "        })();\n",
              "      </script>\n",
              "    </div>\n",
              "\n",
              "  <div id=\"id_188cd9c1-b86c-47f8-9315-681894f3a6c8\">\n",
              "    <style>\n",
              "      .colab-df-generate {\n",
              "        background-color: #E8F0FE;\n",
              "        border: none;\n",
              "        border-radius: 50%;\n",
              "        cursor: pointer;\n",
              "        display: none;\n",
              "        fill: #1967D2;\n",
              "        height: 32px;\n",
              "        padding: 0 0 0 0;\n",
              "        width: 32px;\n",
              "      }\n",
              "\n",
              "      .colab-df-generate:hover {\n",
              "        background-color: #E2EBFA;\n",
              "        box-shadow: 0px 1px 2px rgba(60, 64, 67, 0.3), 0px 1px 3px 1px rgba(60, 64, 67, 0.15);\n",
              "        fill: #174EA6;\n",
              "      }\n",
              "\n",
              "      [theme=dark] .colab-df-generate {\n",
              "        background-color: #3B4455;\n",
              "        fill: #D2E3FC;\n",
              "      }\n",
              "\n",
              "      [theme=dark] .colab-df-generate:hover {\n",
              "        background-color: #434B5C;\n",
              "        box-shadow: 0px 1px 3px 1px rgba(0, 0, 0, 0.15);\n",
              "        filter: drop-shadow(0px 1px 2px rgba(0, 0, 0, 0.3));\n",
              "        fill: #FFFFFF;\n",
              "      }\n",
              "    </style>\n",
              "    <button class=\"colab-df-generate\" onclick=\"generateWithVariable('avocado')\"\n",
              "            title=\"Generate code using this dataframe.\"\n",
              "            style=\"display:none;\">\n",
              "\n",
              "  <svg xmlns=\"http://www.w3.org/2000/svg\" height=\"24px\"viewBox=\"0 0 24 24\"\n",
              "       width=\"24px\">\n",
              "    <path d=\"M7,19H8.4L18.45,9,17,7.55,7,17.6ZM5,21V16.75L18.45,3.32a2,2,0,0,1,2.83,0l1.4,1.43a1.91,1.91,0,0,1,.58,1.4,1.91,1.91,0,0,1-.58,1.4L9.25,21ZM18.45,9,17,7.55Zm-12,3A5.31,5.31,0,0,0,4.9,8.1,5.31,5.31,0,0,0,1,6.5,5.31,5.31,0,0,0,4.9,4.9,5.31,5.31,0,0,0,6.5,1,5.31,5.31,0,0,0,8.1,4.9,5.31,5.31,0,0,0,12,6.5,5.46,5.46,0,0,0,6.5,12Z\"/>\n",
              "  </svg>\n",
              "    </button>\n",
              "    <script>\n",
              "      (() => {\n",
              "      const buttonEl =\n",
              "        document.querySelector('#id_188cd9c1-b86c-47f8-9315-681894f3a6c8 button.colab-df-generate');\n",
              "      buttonEl.style.display =\n",
              "        google.colab.kernel.accessAllowed ? 'block' : 'none';\n",
              "\n",
              "      buttonEl.onclick = () => {\n",
              "        google.colab.notebook.generateWithVariable('avocado');\n",
              "      }\n",
              "      })();\n",
              "    </script>\n",
              "  </div>\n",
              "\n",
              "    </div>\n",
              "  </div>\n"
            ],
            "application/vnd.google.colaboratory.intrinsic+json": {
              "type": "dataframe",
              "variable_name": "avocado",
              "summary": "{\n  \"name\": \"avocado\",\n  \"rows\": 3402,\n  \"fields\": [\n    {\n      \"column\": \"date\",\n      \"properties\": {\n        \"dtype\": \"date\",\n        \"min\": \"2015-01-04 00:00:00\",\n        \"max\": \"2022-05-15 00:00:00\",\n        \"num_unique_values\": 378,\n        \"samples\": [\n          \"2020-07-26 00:00:00\",\n          \"2021-05-16 00:00:00\",\n          \"2021-04-04 00:00:00\"\n        ],\n        \"semantic_type\": \"\",\n        \"description\": \"\"\n      }\n    },\n    {\n      \"column\": \"units_sold\",\n      \"properties\": {\n        \"dtype\": \"number\",\n        \"std\": 10.664147095716901,\n        \"min\": 0.2196899,\n        \"max\": 63.71614415,\n        \"num_unique_values\": 3393,\n        \"samples\": [\n          5.409823019999999,\n          3.4037236600000003,\n          1.6276563700000002\n        ],\n        \"semantic_type\": \"\",\n        \"description\": \"\"\n      }\n    },\n    {\n      \"column\": \"price\",\n      \"properties\": {\n        \"dtype\": \"number\",\n        \"std\": 0.21164750549638497,\n        \"min\": 0.6193928,\n        \"max\": 1.98,\n        \"num_unique_values\": 1667,\n        \"samples\": [\n          0.75396021,\n          0.938553286,\n          1.407831099\n        ],\n        \"semantic_type\": \"\",\n        \"description\": \"\"\n      }\n    },\n    {\n      \"column\": \"region\",\n      \"properties\": {\n        \"dtype\": \"category\",\n        \"num_unique_values\": 9,\n        \"samples\": [\n          \"SouthCentral\",\n          \"Midsouth\",\n          \"Total_US\"\n        ],\n        \"semantic_type\": \"\",\n        \"description\": \"\"\n      }\n    },\n    {\n      \"column\": \"year\",\n      \"properties\": {\n        \"dtype\": \"int32\",\n        \"num_unique_values\": 8,\n        \"samples\": [\n          2016,\n          2020,\n          2015\n        ],\n        \"semantic_type\": \"\",\n        \"description\": \"\"\n      }\n    },\n    {\n      \"column\": \"month\",\n      \"properties\": {\n        \"dtype\": \"int32\",\n        \"num_unique_values\": 12,\n        \"samples\": [\n          11,\n          10,\n          1\n        ],\n        \"semantic_type\": \"\",\n        \"description\": \"\"\n      }\n    },\n    {\n      \"column\": \"year_index\",\n      \"properties\": {\n        \"dtype\": \"int32\",\n        \"num_unique_values\": 8,\n        \"samples\": [\n          1,\n          5,\n          0\n        ],\n        \"semantic_type\": \"\",\n        \"description\": \"\"\n      }\n    },\n    {\n      \"column\": \"peak\",\n      \"properties\": {\n        \"dtype\": \"number\",\n        \"std\": 0,\n        \"min\": 0,\n        \"max\": 1,\n        \"num_unique_values\": 2,\n        \"samples\": [\n          1,\n          0\n        ],\n        \"semantic_type\": \"\",\n        \"description\": \"\"\n      }\n    }\n  ]\n}"
            }
          },
          "metadata": {},
          "execution_count": 4
        }
      ],
      "source": [
        "# Add the index for each year from 2015 through 2022\n",
        "avocado['date'] = pd.to_datetime(avocado['date'])\n",
        "avocado['year'] = pd.DatetimeIndex(avocado['date']).year\n",
        "avocado['year_index'] = avocado['year'] - 2015\n",
        "avocado = avocado.sort_values(by='date')\n",
        "\n",
        "# Define the peak season\n",
        "avocado['month'] = pd.DatetimeIndex(avocado['date']).month\n",
        "peak_months = range(2,8)        # <--------- Set the months for the \"peak season\"\n",
        "def peak_season(row):\n",
        "    return 1 if int(row['month']) in peak_months else 0\n",
        "\n",
        "avocado['peak'] = avocado.apply(lambda row: peak_season(row), axis=1)\n",
        "\n",
        "# Scale the number of avocados to millions\n",
        "avocado['units_sold'] = avocado['units_sold']/1000000\n",
        "\n",
        "# Select only conventional avocados\n",
        "avocado = avocado[avocado['type'] == 'Conventional']\n",
        "\n",
        "avocado = avocado[['date','units_sold','price','region','year','month','year_index','peak']].reset_index(drop = True)\n",
        "\n",
        "avocado"
      ]
    },
    {
      "cell_type": "markdown",
      "id": "65bb1d21",
      "metadata": {
        "id": "65bb1d21"
      },
      "source": [
        "## Part 1: Observe Trends in the Data\n",
        "\n",
        "Now, we will infer sales trends in time and seasonality. For simplicity, let's proceed with data from the United States as a whole."
      ]
    },
    {
      "cell_type": "code",
      "execution_count": 5,
      "id": "ab0c4402",
      "metadata": {
        "id": "ab0c4402"
      },
      "outputs": [],
      "source": [
        "df_Total_US = avocado[avocado['region']=='Total_US']"
      ]
    },
    {
      "cell_type": "markdown",
      "id": "7903d4b5",
      "metadata": {
        "id": "7903d4b5"
      },
      "source": [
        "### Sales Over the Years"
      ]
    },
    {
      "cell_type": "code",
      "execution_count": 6,
      "id": "2ec7e699",
      "metadata": {
        "colab": {
          "base_uri": "https://localhost:8080/",
          "height": 507
        },
        "id": "2ec7e699",
        "outputId": "4e3aa97d-97bc-472c-af53-7de3e9a1e573"
      },
      "outputs": [
        {
          "output_type": "display_data",
          "data": {
            "text/plain": [
              "<Figure size 1000x500 with 1 Axes>"
            ],
            "image/png": "[encoded data removed]"
          },
          "metadata": {}
        }
      ],
      "source": [
        "fig, axes = plt.subplots(nrows=1, ncols=1, figsize=(10, 5))\n",
        "\n",
        "mean = df_Total_US.groupby('year')['units_sold'].mean()\n",
        "std  = df_Total_US.groupby('year')['units_sold'].std()\n",
        "axes.errorbar(mean.index, mean, xerr=0.5, yerr=2*std, linestyle='')\n",
        "axes.set_ylabel('Units Sold (millions)')\n",
        "axes.set_xlabel('Year')\n",
        "\n",
        "fig.tight_layout()"
      ]
    },
    {
      "cell_type": "markdown",
      "id": "e37ba680",
      "metadata": {
        "id": "e37ba680"
      },
      "source": [
        "We can see that the sales generally increased over the years, albeit marginally. The dip in 2019 is the effect of the well-documented [2019 avocado shortage](https://abc7news.com/avocado-shortage-season-prices/5389855/) that led to avocados [nearly doubling in price.](https://abc7news.com/avocado-shortage-season-prices/5389855/)"
      ]
    },
    {
      "cell_type": "markdown",
      "id": "30abfba6",
      "metadata": {
        "id": "30abfba6"
      },
      "source": [
        "### Seasonality\n",
        "\n",
        "We will now see the sales trends within a year."
      ]
    },
    {
      "cell_type": "code",
      "execution_count": 7,
      "id": "4a594510",
      "metadata": {
        "colab": {
          "base_uri": "https://localhost:8080/",
          "height": 506
        },
        "id": "4a594510",
        "outputId": "75c48414-88c2-4d37-e90a-7e8d1d339772"
      },
      "outputs": [
        {
          "output_type": "display_data",
          "data": {
            "text/plain": [
              "<Figure size 1000x500 with 1 Axes>"
            ],
            "image/png": "[encoded data removed]"
          },
          "metadata": {}
        }
      ],
      "source": [
        "fig, axes = plt.subplots(nrows=1, ncols=1, figsize=(10, 5))\n",
        "\n",
        "mean = df_Total_US.groupby('month')['units_sold'].mean()\n",
        "std  = df_Total_US.groupby('month')['units_sold'].std()\n",
        "\n",
        "axes.errorbar(mean.index, mean, xerr=0.5, yerr=2*std, linestyle='')\n",
        "axes.set_ylabel('Units Sold (millions)')\n",
        "axes.set_xlabel('Month')\n",
        "\n",
        "fig.tight_layout()\n",
        "\n",
        "plt.xlabel('Month')\n",
        "axes.set_xticks(range(1,13))\n",
        "plt.ylabel('Units sold (millions)')\n",
        "plt.show()"
      ]
    },
    {
      "cell_type": "markdown",
      "id": "c87738d0",
      "metadata": {
        "id": "c87738d0"
      },
      "source": [
        "We see a Super Bowl peak in February and a Cinco de Mayo peak in May."
      ]
    },
    {
      "cell_type": "markdown",
      "id": "2e04cef1",
      "metadata": {
        "id": "2e04cef1"
      },
      "source": [
        "### Correlations\n",
        "\n",
        "Now, we will see how the variables are correlated with each other.\n",
        "The end goal is to predict sales given the price of an avocado, year and seasonality (peak or not)."
      ]
    },
    {
      "cell_type": "code",
      "execution_count": null,
      "id": "25729f7d",
      "metadata": {
        "id": "25729f7d",
        "outputId": "67f2bd77-d7d7-4256-8e71-aa7010af5b99"
      },
      "outputs": [
        {
          "data": {
            "image/png": "[encoded data removed]",
            "text/plain": [
              "<Figure size 1080x360 with 2 Axes>"
            ]
          },
          "metadata": {
            "needs_background": "light"
          },
          "output_type": "display_data"
        }
      ],
      "source": [
        "fig, axes = plt.subplots(nrows=1, ncols=1, figsize=(15, 5))\n",
        "sns.heatmap(df_Total_US[['units_sold', 'price', 'year', 'peak']].corr(),annot=True, center=0,ax=axes)\n",
        "\n",
        "axes.set_title('Correlations for conventional avocados')\n",
        "plt.show()"
      ]
    },
    {
      "cell_type": "markdown",
      "id": "fe48eecb",
      "metadata": {
        "id": "fe48eecb"
      },
      "source": [
        "As expected, the sales quantity has a negative correlation with the price per avocado. The sales quantity has a positive correlation with the year and season being a peak season."
      ]
    },
    {
      "cell_type": "markdown",
      "id": "27356cce",
      "metadata": {
        "id": "27356cce"
      },
      "source": [
        "### Regions\n",
        "\n",
        "Finally, we will see how the sales differ among the different regions. This will determine the number of avocados that we want to supply to each region."
      ]
    },
    {
      "cell_type": "code",
      "execution_count": 8,
      "id": "081b3f31",
      "metadata": {
        "colab": {
          "base_uri": "https://localhost:8080/",
          "height": 581
        },
        "id": "081b3f31",
        "outputId": "42d25004-0707-4cca-e9ec-072aa215f7bc"
      },
      "outputs": [
        {
          "output_type": "display_data",
          "data": {
            "text/plain": [
              "<Figure size 1000x500 with 1 Axes>"
            ],
            "image/png": "[encoded data removed]"
          },
          "metadata": {}
        }
      ],
      "source": [
        "fig, axes = plt.subplots(nrows=1, ncols=1, figsize=(10, 5))\n",
        "\n",
        "regions = ['Great_Lakes','Midsouth','Northeast','Northern_New_England','SouthCentral','Southeast','West','Plains']\n",
        "df = avocado[avocado.region.isin(regions)]\n",
        "\n",
        "mean = df.groupby('region')['units_sold'].mean()\n",
        "std  = df.groupby('region')['units_sold'].std()\n",
        "\n",
        "axes.errorbar(range(len(mean)), mean, xerr=0.5, yerr=2*std, linestyle='')\n",
        "\n",
        "fig.tight_layout()\n",
        "\n",
        "plt.xlabel('Region')\n",
        "plt.xticks(range(len(mean)), pd.DataFrame(mean)['units_sold'].index,rotation=20)\n",
        "plt.ylabel('Units sold (millions)')\n",
        "plt.show()"
      ]
    },
    {
      "cell_type": "markdown",
      "id": "1d1a2716",
      "metadata": {
        "id": "1d1a2716"
      },
      "source": [
        "Clearly, west-coasters love avocados."
      ]
    },
    {
      "cell_type": "markdown",
      "id": "b20e125e",
      "metadata": {
        "id": "b20e125e"
      },
      "source": [
        "## Part II: Predict the Sales\n",
        "\n",
        "The trends observed in Part I motivate us to construct a prediction model for sales using the independent variables- price, year, region and seasonality.\n",
        "Henceforth, the sales quantity will be referred to as the *predicted demand*.\n",
        "\n",
        "Let us now construct a linear regressor for the demand.\n",
        "Note that the region is a categorical variable.\n",
        "The linear regressor can be mathematically expressed as:\n",
        "\n",
        "$$demand = \\beta_0 + \\beta_1 * price + \\sum\\limits_{region} \\beta^{region}_3 * \\mathbb{1}(region)  +  \\beta_4 w_{year}*year +  \\beta_5  * \\mathbb{1}(peak).$$\n",
        "\n",
        "Here, the $\\beta$ values are weights (or \"co-efficients\") that have to be learned from the data.\n",
        "Note that the notation $\\mathbb{1}(region)$ is an indicator function that takes the value $1$ for each region in the summation. The value of $\\mathbb{1}(peak)$ is $1$ if we consider the peak season.\n",
        "\n",
        "To validate the regression model, we will randomly split the dataset into $80\\%$ training and $20\\%$ testing data and learn the weights using sklearns."
      ]
    },
    {
      "cell_type": "code",
      "execution_count": 9,
      "id": "55a07590",
      "metadata": {
        "colab": {
          "base_uri": "https://localhost:8080/"
        },
        "id": "55a07590",
        "outputId": "d9546fcc-780b-411c-a567-4ed528feab16"
      },
      "outputs": [
        {
          "output_type": "stream",
          "name": "stdout",
          "text": [
            "The R^2 value in the test set is 0.8982069358257861\n"
          ]
        }
      ],
      "source": [
        "import statsmodels.api as sm\n",
        "import statsmodels.formula.api as smf\n",
        "from sklearn.model_selection import train_test_split\n",
        "from sklearn.metrics import r2_score\n",
        "\n",
        "# Split the data for training and testing\n",
        "train, test = train_test_split(df, train_size=0.8, random_state=1)\n",
        "df_train = pd.DataFrame(train, columns=df.columns)\n",
        "df_test = pd.DataFrame(test, columns=df.columns)\n",
        "\n",
        "# Train the model\n",
        "formula = 'units_sold ~ price + year_index + C(region)+ peak'\n",
        "mod = smf.ols(formula,data=df_train)\n",
        "result = mod.fit()\n",
        "result.summary()\n",
        "\n",
        "# Get R^2 from test data\n",
        "y_true = df_test['units_sold']\n",
        "y_pred = result.predict(df_test)\n",
        "print(\"The R^2 value in the test set is\",r2_score(y_true, y_pred))"
      ]
    },
    {
      "cell_type": "markdown",
      "id": "1e085dad",
      "metadata": {
        "id": "1e085dad"
      },
      "source": [
        "We can observe a good $R^2$ value in the test set. We will now train the fit the weights to the full dataset."
      ]
    },
    {
      "cell_type": "code",
      "execution_count": 10,
      "id": "506c8804",
      "metadata": {
        "colab": {
          "base_uri": "https://localhost:8080/"
        },
        "id": "506c8804",
        "outputId": "050b2ced-7301-4281-9c26-48c248a4eb07"
      },
      "outputs": [
        {
          "output_type": "stream",
          "name": "stdout",
          "text": [
            "The R^2 value in the full dataset is 0.9066729322212482\n"
          ]
        }
      ],
      "source": [
        "formula = 'units_sold ~ price + year_index + C(region)+ peak'\n",
        "mod_full = smf.ols(formula,data=df)\n",
        "result_full = mod_full.fit()\n",
        "\n",
        "y_true_full = df['units_sold']\n",
        "y_pred_full = result_full.predict(df)\n",
        "print(\"The R^2 value in the full dataset is\",r2_score(y_true_full, y_pred_full))\n",
        "\n",
        "# Get the weights and store it\n",
        "coef_dict = result_full.params.to_dict()\n",
        "coef_dict['C(region)[T.Great_Lakes]'] = 0"
      ]
    },
    {
      "cell_type": "markdown",
      "id": "7cbe1cd5",
      "metadata": {
        "id": "7cbe1cd5"
      },
      "source": [
        "## Part III: Optimize for Price and Supply of Avocados"
      ]
    },
    {
      "cell_type": "markdown",
      "id": "214906e5",
      "metadata": {
        "id": "214906e5"
      },
      "source": [
        "Knowing how the price of an avocado affects the demand, how can we set the optimal avocado price?\n",
        "We don't want to set the price too high, since that could drive demand and sales down. At the same time, setting the price too low could be sub-optimal when maximizing revenue. So what is the sweet spot?\n",
        "\n",
        "On the distribution logistics, we want to make sure that there are enough avocados across the regions. We can address these considerations in a mathematical optimization model.\n",
        "An optimization model finds the **best solution** according to an **objective function** such that the solution satisfies a set of **constraints**.\n",
        "Here, a solution is expressed as a vector of real values or integer values called **decision variables**.\n",
        "Constraints are a set of equations or inequalities written as a function of the decision variables.\n",
        "\n",
        "At the start of each week, assume that the total number of available products is finite. This quantity needs to be distributed to the various regions while maximizing net revenue. So there are two key decisions - the price of an avocado in each region, and the number of avocados allocated to each region.\n",
        "\n",
        "Let us now define some input parameters and notations used for creating the model. The subscript $r$ will be used to denote each region.\n",
        "\n",
        "### Input Parameters\n",
        "- $R$: set of regions,\n",
        "- $d(p,r)$: predicted demand in region $r\\in R$ when the avocado per product is $p$,\n",
        "- $B$: available avocados to be distributed across the regions,\n",
        "- $c_{waste}$: cost ($\\$$) per wasted avocado,\n",
        "- $c^r_{transport}$: cost ($\\$$) of transporting a avocado to region $r \\in R$,\n",
        "- $a^r_{min},a^r_{max}$: minimum and maximum price ($\\$$) per avocado for reigon $r \\in R$,\n",
        "- $b^r_{min},b^r_{max}$: minimum and maximum number of avocados allocated to region $r \\in R$,\n",
        "\n",
        "The following code loads the Gurobi python package and initiates the optimization model.\n",
        "The value of $B$ is set to $30$ million avocados, which is close to the average weekly supply value from the data.\n",
        "For illustration, let us consider the peak season of 2021.\n",
        "The cost of wasting an avocado is set to $\\$0.10$.\n",
        "The cost of transporting an avocado ranges between $\\$0.10$ to $\\$0.50$ based on each region's distance from the southern border, where the [majority of avocado supply comes from](https://www.britannica.com/plant/avocado).\n",
        "Further, we can set the price of an avocado to not exceed $\\$ 2$ apiece."
      ]
    },
    {
      "cell_type": "code",
      "execution_count": 11,
      "id": "29328983",
      "metadata": {
        "colab": {
          "base_uri": "https://localhost:8080/"
        },
        "id": "29328983",
        "outputId": "661f1ed2-5bb4-44a6-d502-7078ec9ee158"
      },
      "outputs": [
        {
          "output_type": "stream",
          "name": "stdout",
          "text": [
            "Restricted license - for non-production use only - expires 2026-11-23\n"
          ]
        }
      ],
      "source": [
        "import gurobipy as gp\n",
        "from gurobipy import GRB\n",
        "\n",
        "m = gp.Model(\"Avocado_Price_Allocation\")\n",
        "\n",
        "# Sets and parameters\n",
        "R = regions   # set of all regions\n",
        "\n",
        "B = 30  # total amount ot avocado supply\n",
        "\n",
        "peak_or_not = 1 # 1 if it is the peak season; 1 if isn't\n",
        "year = 2022\n",
        "\n",
        "c_waste = 0.1 # the cost ($) of wasting an avocado\n",
        "c_transport = {'Great_Lakes': .3,'Midsouth':.1,'Northeast':.4,'Northern_New_England':.5,'SouthCentral':.3,'Southeast':.2,'West':.2,'Plains':.2}\n",
        "# the cost of transporting an avocado\n",
        "\n",
        "# Get the lower and upper bounds from the dataset for the price and the number of products to be stocked\n",
        "a_min = {r: 0 for r in R} # minimum avocado price in each region\n",
        "a_max = {r: 2 for r in R} # maximum avocado price in each region\n",
        "b_min = dict(df.groupby('region')['units_sold'].min())  # minimum number of avocados allocated to each region\n",
        "b_max = dict(df.groupby('region')['units_sold'].max())   # maximum number of avocados allocated to each region"
      ]
    },
    {
      "cell_type": "markdown",
      "id": "1fa17930",
      "metadata": {
        "id": "1fa17930"
      },
      "source": [
        "### Decision Variables\n",
        "\n",
        "Let us now define the decision variables.\n",
        "In our model, we want to store the price and number of avocados allocated to each region. We also want variables that track how many avocados are predicted to be sold and how many are predicted to be wasted.\n",
        "The following notation is used to model these decision variables, indexed for each region $r$.\n",
        "\n",
        "$p_r$: the price of an avocado ($\\$$) in region $r$,\n",
        "\n",
        "$x_r$: the number of products avocados supplied to region $r$,\n",
        "\n",
        "$s_r = \\min \\{x_r,d_r(p_r)\\}$: the predicted number of avocados sold in region $r$,\n",
        "\n",
        "$w_r = x_r - s_r$: the predicted number of avocados wasted in region $r$\n",
        "\n",
        "We will now add the variables to the Gurobi model."
      ]
    },
    {
      "cell_type": "code",
      "execution_count": 12,
      "id": "0bb7f0f8",
      "metadata": {
        "id": "0bb7f0f8"
      },
      "outputs": [],
      "source": [
        "p = m.addVars(R,name=\"p\",lb=a_min, ub=a_max)   # price of avocados in each region\n",
        "x = m.addVars(R,name=\"x\",lb=b_min,ub=b_max)  # quantity supplied to each region\n",
        "s = m.addVars(R,name=\"s\",lb=0)   # predicted amount of sales in each region for the given price\n",
        "w = m.addVars(R,name=\"w\",lb=0)   # excess wasteage in each region"
      ]
    },
    {
      "cell_type": "markdown",
      "id": "389ffd60",
      "metadata": {
        "id": "389ffd60"
      },
      "source": [
        "Now, let's create an expression for the predicted demand in each region as a function of price. Note that apart from the price, none of the other parameters in this prediction function (such as region, year and seasonality) are decision variables, and hence can be treated as constants."
      ]
    },
    {
      "cell_type": "code",
      "execution_count": 13,
      "id": "8960e806",
      "metadata": {
        "colab": {
          "base_uri": "https://localhost:8080/"
        },
        "id": "8960e806",
        "outputId": "bc60c0eb-50e1-4d83-cd80-e2559a841ed2"
      },
      "outputs": [
        {
          "output_type": "stream",
          "name": "stdout",
          "text": [
            "7.113205674224991 + -2.20377010489025 <gurobi.Var *Awaiting Model Update*>\n",
            "6.870512520547112 + -2.20377010489025 <gurobi.Var *Awaiting Model Update*>\n",
            "8.546225510868233 + -2.20377010489025 <gurobi.Var *Awaiting Model Update*>\n",
            "4.093961883587112 + -2.20377010489025 <gurobi.Var *Awaiting Model Update*>\n",
            "8.827017748198452 + -2.20377010489025 <gurobi.Var *Awaiting Model Update*>\n",
            "7.69719584088616 + -2.20377010489025 <gurobi.Var *Awaiting Model Update*>\n",
            "9.715005122866257 + -2.20377010489025 <gurobi.Var *Awaiting Model Update*>\n",
            "5.298172801834584 + -2.20377010489025 <gurobi.Var *Awaiting Model Update*>\n"
          ]
        }
      ],
      "source": [
        "d = {r: (coef_dict['Intercept']+coef_dict['price']*p[r] + coef_dict['C(region)[T.%s]'%r] + coef_dict['year_index']*(year-2015) + coef_dict['peak']*peak_or_not) for r in R}\n",
        "for r in R:\n",
        "    print(d[r])"
      ]
    },
    {
      "cell_type": "markdown",
      "id": "3d733d6f",
      "metadata": {
        "id": "3d733d6f"
      },
      "source": [
        "### Set the Objective\n",
        "\n",
        "Next, we will define the objective function: we want to maximizing the **net revenue**. The revenue from sales in each region is calculated by the price of an avocado in that region multiplied by the quantity sold there. There are two types of costs incurred: the wastage costs for excess unsold avocados and the cost of transporting the avocados to the different regions.\n",
        "\n",
        "The net revenue is the sales revenue subtracted by the total costs incurred. We assume that the purchase costs are fixed and are not incorporated in this model.\n",
        "\n",
        "Using the defined decision variables, the objective can be written as follows.\n",
        "\n",
        "\\begin{align}\n",
        "\\textrm{maximize} &  \\sum_{r}  (p_r * s_r - c_{waste} * w_r - c^r_{transport} * x_r)&\n",
        "\\end{align}\n",
        "\n",
        "Let us now add the objective function to the model."
      ]
    },
    {
      "cell_type": "code",
      "execution_count": 14,
      "id": "bb5e1218",
      "metadata": {
        "id": "bb5e1218"
      },
      "outputs": [],
      "source": [
        "m.setObjective(sum(p[r]*s[r] - c_waste*w[r] - c_transport[r]*x[r] for r in R))\n",
        "m.ModelSense = GRB.MAXIMIZE"
      ]
    },
    {
      "cell_type": "markdown",
      "id": "93a8432c",
      "metadata": {
        "id": "93a8432c"
      },
      "source": [
        "### Add the Supply Constraint\n",
        "\n",
        "We now introduce the constraints. The first constraint is to make sure that the total number of avocados supplied is equal to $B$, which can be mathematically expressed as follows.\n",
        "\n",
        "\\begin{align*}\n",
        "\\sum_{r} x_r &= B\n",
        "\\end{align*}\n",
        "\n",
        "The following code adds this constraint to the model."
      ]
    },
    {
      "cell_type": "code",
      "execution_count": 15,
      "id": "84bd6017",
      "metadata": {
        "id": "84bd6017"
      },
      "outputs": [],
      "source": [
        "m.addConstr(sum(x[r] for r in R) == B)\n",
        "m.update()"
      ]
    },
    {
      "cell_type": "markdown",
      "id": "380cbfab",
      "metadata": {
        "id": "380cbfab"
      },
      "source": [
        "### Add Constraints That Define Sales Quantity\n",
        "\n",
        "Next, we should define the predicted sales quantity in each region.\n",
        "We can assume that if we supply more than the predicted demand, we sell exactly the predicted demand.\n",
        "Otherwise, we sell exactly the allocated amount.\n",
        "Hence, the predicted sales quantity is the minimum of the allocated quantity and the predicted demand, i.e., $s_r = \\min \\{x_r,d_r(p_r)\\}$.\n",
        "This relationship can be modeled by the following two constraints for each region $r$.\n",
        "\n",
        "\\begin{align*}\n",
        "s_r &\\leq x_r  \\\\\n",
        "s_r &\\leq d(p_r,r)  \n",
        "\\end{align*}\n",
        "\n",
        "These constraints will ensure that the sales quantity $s_r$ in region $r$ is  greater than neither the allocated quantity nor the predicted demand. Note that the maximization objective function tries to maximize the revenue from sales, and therefore the optimizer will maximize the predicted sales quantity. This is assuming that the surplus and transportation costs are less than the sales price per avocado. Hence, these constraints along with the objective will ensure that the sales are equal to the minimum of supply and predicted demand.\n",
        "\n",
        "Let us now add these constraints to the model."
      ]
    },
    {
      "cell_type": "code",
      "execution_count": 16,
      "id": "ca72fc5b",
      "metadata": {
        "id": "ca72fc5b"
      },
      "outputs": [],
      "source": [
        "m.addConstrs((s[r] <= x[r] for r in R))\n",
        "m.addConstrs((s[r] <= d[r] for r in R))\n",
        "m.update()"
      ]
    },
    {
      "cell_type": "markdown",
      "id": "d0875f6c",
      "metadata": {
        "id": "d0875f6c"
      },
      "source": [
        "### Add the Wastage Constraints\n",
        "\n",
        "Finally, we should define the predicted wastage in each region, given by the supplied quantity that is not predicted to be sold. We can express this mathematically for each region $r$.\n",
        "\n",
        "\\begin{align*}\n",
        "w_r &= x_r - s_r\n",
        "\\end{align*}\n",
        "\n",
        "We can add these constraints to the model."
      ]
    },
    {
      "cell_type": "code",
      "execution_count": 17,
      "id": "38ac8066",
      "metadata": {
        "id": "38ac8066"
      },
      "outputs": [],
      "source": [
        "m.addConstrs((w[r] == x[r]-s[r] for r in R))\n",
        "m.update()"
      ]
    },
    {
      "cell_type": "markdown",
      "id": "dab6884c",
      "metadata": {
        "id": "dab6884c"
      },
      "source": [
        "### Fire Up the Solver\n",
        "\n",
        "We have added the decision variables, objective function, and the constraints to the model.\n",
        "The model is ready to be solved.\n",
        "Before we do so, we should let the solver know what type of model this is.\n",
        "The default setting assumes that the objective and the constraints are linear functions of the variables.\n",
        "\n",
        "In our model, the objective is **quadratic** since we take the product of price and the predicted sales, both of which are variables.\n",
        "Maximizing a quadratic term is said to be **non-convex**, and we specify this using a Gurobi parameter value to be $2$.\n",
        "See [here](https://www.gurobi.com/documentation/9.5/refman/nonconvex.html) for more details."
      ]
    },
    {
      "cell_type": "code",
      "execution_count": 18,
      "id": "ac3c5eca",
      "metadata": {
        "colab": {
          "base_uri": "https://localhost:8080/"
        },
        "id": "ac3c5eca",
        "outputId": "f97af62e-e222-4d6e-c4b9-62da4728b711"
      },
      "outputs": [
        {
          "output_type": "stream",
          "name": "stdout",
          "text": [
            "Set parameter NonConvex to value 2\n",
            "Gurobi Optimizer version 12.0.3 build v12.0.3rc0 (linux64 - \"Ubuntu 22.04.4 LTS\")\n",
            "\n",
            "CPU model: Intel(R) Xeon(R) CPU @ 2.20GHz, instruction set [SSE2|AVX|AVX2]\n",
            "Thread count: 1 physical cores, 2 logical processors, using up to 2 threads\n",
            "\n",
            "Non-default parameters:\n",
            "NonConvex  2\n",
            "\n",
            "Optimize a model with 25 rows, 32 columns and 64 nonzeros\n",
            "Model fingerprint: 0x3d9c9c04\n",
            "Model has 8 quadratic objective terms\n",
            "Coefficient statistics:\n",
            "  Matrix range     [1e+00, 2e+00]\n",
            "  Objective range  [1e-01, 5e-01]\n",
            "  QObjective range [2e+00, 2e+00]\n",
            "  Bounds range     [2e-01, 1e+01]\n",
            "  RHS range        [4e+00, 3e+01]\n",
            "\n",
            "Continuous model is non-convex -- solving as a MIP\n",
            "\n",
            "Presolve removed 8 rows and 8 columns\n",
            "Presolve time: 0.00s\n",
            "Presolved: 34 rows, 34 columns, 81 nonzeros\n",
            "Presolved model has 8 bilinear constraint(s)\n",
            "Variable types: 34 continuous, 0 integer (0 binary)\n",
            "Found heuristic solution: objective 42.5082914\n",
            "\n",
            "Root relaxation: objective 5.288486e+01, 36 iterations, 0.00 seconds (0.00 work units)\n",
            "\n",
            "    Nodes    |    Current Node    |     Objective Bounds      |     Work\n",
            " Expl Unexpl |  Obj  Depth IntInf | Incumbent    BestBd   Gap | It/Node Time\n",
            "\n",
            "     0     0   52.88486    0    8   42.50829   52.88486  24.4%     -    0s\n",
            "     0     0   47.12254    0    8   42.50829   47.12254  10.9%     -    0s\n",
            "     0     0   43.44064    0    8   42.50829   43.44064  2.19%     -    0s\n",
            "     0     0   42.67905    0    8   42.50829   42.67905  0.40%     -    0s\n",
            "     0     0   42.57804    0    8   42.50829   42.57804  0.16%     -    0s\n",
            "     0     0   42.53113    0    8   42.50829   42.53113  0.05%     -    0s\n",
            "     0     0   42.52284    0    8   42.50829   42.52284  0.03%     -    0s\n",
            "     0     0   42.51632    0    8   42.50829   42.51632  0.02%     -    0s\n",
            "     0     0   42.51620    0    6   42.50829   42.51620  0.02%     -    0s\n",
            "     0     2   42.51620    0    6   42.50829   42.51620  0.02%     -    0s\n",
            "\n",
            "Cutting planes:\n",
            "  RLT: 15\n",
            "\n",
            "Explored 197 nodes (341 simplex iterations) in 0.12 seconds (0.01 work units)\n",
            "Thread count was 2 (of 2 available processors)\n",
            "\n",
            "Solution count 1: 42.5083 \n",
            "\n",
            "Optimal solution found (tolerance 1.00e-04)\n",
            "Best objective 4.250829142540e+01, best bound 4.251190343013e+01, gap 0.0085%\n"
          ]
        }
      ],
      "source": [
        "m.Params.NonConvex = 2\n",
        "m.optimize()"
      ]
    },
    {
      "cell_type": "markdown",
      "id": "aed67953",
      "metadata": {
        "id": "aed67953"
      },
      "source": [
        "The solver solved the optimization problem in less than a second.\n",
        "Let us now analyze the optimal solution by storing it in a Pandas dataframe."
      ]
    },
    {
      "cell_type": "code",
      "execution_count": 19,
      "id": "3f7ff154",
      "metadata": {
        "colab": {
          "base_uri": "https://localhost:8080/",
          "height": 335
        },
        "id": "3f7ff154",
        "outputId": "9c3f1f53-2e0e-4f1c-c519-6ac816c6504b"
      },
      "outputs": [
        {
          "output_type": "stream",
          "name": "stdout",
          "text": [
            "\n",
            " The optimal net revenue: $42.508291 million\n"
          ]
        },
        {
          "output_type": "execute_result",
          "data": {
            "text/plain": [
              "                 Region     Price  Allocated      Sold        Wasted  \\\n",
              "0           Great_Lakes  1.663872   3.446414  3.446414  1.000000e-08   \n",
              "1              Midsouth  1.508809   5.272290  3.545445  1.726845e+00   \n",
              "2             Northeast  2.000000   4.138685  4.138685  1.000000e-08   \n",
              "3  Northern_New_England  1.441157   0.917984  0.917984  0.000000e+00   \n",
              "4          SouthCentral  2.000000   4.419478  4.419478  1.000000e-08   \n",
              "5             Southeast  1.746370   3.848598  3.848598  2.000000e-08   \n",
              "6                  West  2.000000   5.307465  5.307465  2.000000e-08   \n",
              "7                Plains  1.202070   2.649086  2.649086  2.000000e-08   \n",
              "\n",
              "   Pred_demand  \n",
              "0     3.446414  \n",
              "1     3.545445  \n",
              "2     4.138685  \n",
              "3     0.917984  \n",
              "4     4.419478  \n",
              "5     3.848598  \n",
              "6     5.307465  \n",
              "7     2.649086  "
            ],
            "text/html": [
              "\n",
              "  <div id=\"df-1ec4479d-4042-4af2-bc93-a98f91ce387a\" class=\"colab-df-container\">\n",
              "    <div>\n",
              "<style scoped>\n",
              "    .dataframe tbody tr th:only-of-type {\n",
              "        vertical-align: middle;\n",
              "    }\n",
              "\n",
              "    .dataframe tbody tr th {\n",
              "        vertical-align: top;\n",
              "    }\n",
              "\n",
              "    .dataframe thead th {\n",
              "        text-align: right;\n",
              "    }\n",
              "</style>\n",
              "<table border=\"1\" class=\"dataframe\">\n",
              "  <thead>\n",
              "    <tr style=\"text-align: right;\">\n",
              "      <th></th>\n",
              "      <th>Region</th>\n",
              "      <th>Price</th>\n",
              "      <th>Allocated</th>\n",
              "      <th>Sold</th>\n",
              "      <th>Wasted</th>\n",
              "      <th>Pred_demand</th>\n",
              "    </tr>\n",
              "  </thead>\n",
              "  <tbody>\n",
              "    <tr>\n",
              "      <th>0</th>\n",
              "      <td>Great_Lakes</td>\n",
              "      <td>1.663872</td>\n",
              "      <td>3.446414</td>\n",
              "      <td>3.446414</td>\n",
              "      <td>1.000000e-08</td>\n",
              "      <td>3.446414</td>\n",
              "    </tr>\n",
              "    <tr>\n",
              "      <th>1</th>\n",
              "      <td>Midsouth</td>\n",
              "      <td>1.508809</td>\n",
              "      <td>5.272290</td>\n",
              "      <td>3.545445</td>\n",
              "      <td>1.726845e+00</td>\n",
              "      <td>3.545445</td>\n",
              "    </tr>\n",
              "    <tr>\n",
              "      <th>2</th>\n",
              "      <td>Northeast</td>\n",
              "      <td>2.000000</td>\n",
              "      <td>4.138685</td>\n",
              "      <td>4.138685</td>\n",
              "      <td>1.000000e-08</td>\n",
              "      <td>4.138685</td>\n",
              "    </tr>\n",
              "    <tr>\n",
              "      <th>3</th>\n",
              "      <td>Northern_New_England</td>\n",
              "      <td>1.441157</td>\n",
              "      <td>0.917984</td>\n",
              "      <td>0.917984</td>\n",
              "      <td>0.000000e+00</td>\n",
              "      <td>0.917984</td>\n",
              "    </tr>\n",
              "    <tr>\n",
              "      <th>4</th>\n",
              "      <td>SouthCentral</td>\n",
              "      <td>2.000000</td>\n",
              "      <td>4.419478</td>\n",
              "      <td>4.419478</td>\n",
              "      <td>1.000000e-08</td>\n",
              "      <td>4.419478</td>\n",
              "    </tr>\n",
              "    <tr>\n",
              "      <th>5</th>\n",
              "      <td>Southeast</td>\n",
              "      <td>1.746370</td>\n",
              "      <td>3.848598</td>\n",
              "      <td>3.848598</td>\n",
              "      <td>2.000000e-08</td>\n",
              "      <td>3.848598</td>\n",
              "    </tr>\n",
              "    <tr>\n",
              "      <th>6</th>\n",
              "      <td>West</td>\n",
              "      <td>2.000000</td>\n",
              "      <td>5.307465</td>\n",
              "      <td>5.307465</td>\n",
              "      <td>2.000000e-08</td>\n",
              "      <td>5.307465</td>\n",
              "    </tr>\n",
              "    <tr>\n",
              "      <th>7</th>\n",
              "      <td>Plains</td>\n",
              "      <td>1.202070</td>\n",
              "      <td>2.649086</td>\n",
              "      <td>2.649086</td>\n",
              "      <td>2.000000e-08</td>\n",
              "      <td>2.649086</td>\n",
              "    </tr>\n",
              "  </tbody>\n",
              "</table>\n",
              "</div>\n",
              "    <div class=\"colab-df-buttons\">\n",
              "\n",
              "  <div class=\"colab-df-container\">\n",
              "    <button class=\"colab-df-convert\" onclick=\"convertToInteractive('df-1ec4479d-4042-4af2-bc93-a98f91ce387a')\"\n",
              "            title=\"Convert this dataframe to an interactive table.\"\n",
              "            style=\"display:none;\">\n",
              "\n",
              "  <svg xmlns=\"http://www.w3.org/2000/svg\" height=\"24px\" viewBox=\"0 -960 960 960\">\n",
              "    <path d=\"M120-120v-720h720v720H120Zm60-500h600v-160H180v160Zm220 220h160v-160H400v160Zm0 220h160v-160H400v160ZM180-400h160v-160H180v160Zm440 0h160v-160H620v160ZM180-180h160v-160H180v160Zm440 0h160v-160H620v160Z\"/>\n",
              "  </svg>\n",
              "    </button>\n",
              "\n",
              "  <style>\n",
              "    .colab-df-container {\n",
              "      display:flex;\n",
              "      gap: 12px;\n",
              "    }\n",
              "\n",
              "    .colab-df-convert {\n",
              "      background-color: #E8F0FE;\n",
              "      border: none;\n",
              "      border-radius: 50%;\n",
              "      cursor: pointer;\n",
              "      display: none;\n",
              "      fill: #1967D2;\n",
              "      height: 32px;\n",
              "      padding: 0 0 0 0;\n",
              "      width: 32px;\n",
              "    }\n",
              "\n",
              "    .colab-df-convert:hover {\n",
              "      background-color: #E2EBFA;\n",
              "      box-shadow: 0px 1px 2px rgba(60, 64, 67, 0.3), 0px 1px 3px 1px rgba(60, 64, 67, 0.15);\n",
              "      fill: #174EA6;\n",
              "    }\n",
              "\n",
              "    .colab-df-buttons div {\n",
              "      margin-bottom: 4px;\n",
              "    }\n",
              "\n",
              "    [theme=dark] .colab-df-convert {\n",
              "      background-color: #3B4455;\n",
              "      fill: #D2E3FC;\n",
              "    }\n",
              "\n",
              "    [theme=dark] .colab-df-convert:hover {\n",
              "      background-color: #434B5C;\n",
              "      box-shadow: 0px 1px 3px 1px rgba(0, 0, 0, 0.15);\n",
              "      filter: drop-shadow(0px 1px 2px rgba(0, 0, 0, 0.3));\n",
              "      fill: #FFFFFF;\n",
              "    }\n",
              "  </style>\n",
              "\n",
              "    <script>\n",
              "      const buttonEl =\n",
              "        document.querySelector('#df-1ec4479d-4042-4af2-bc93-a98f91ce387a button.colab-df-convert');\n",
              "      buttonEl.style.display =\n",
              "        google.colab.kernel.accessAllowed ? 'block' : 'none';\n",
              "\n",
              "      async function convertToInteractive(key) {\n",
              "        const element = document.querySelector('#df-1ec4479d-4042-4af2-bc93-a98f91ce387a');\n",
              "        const dataTable =\n",
              "          await google.colab.kernel.invokeFunction('convertToInteractive',\n",
              "                                                    [key], {});\n",
              "        if (!dataTable) return;\n",
              "\n",
              "        const docLinkHtml = 'Like what you see? Visit the ' +\n",
              "          '<a target=\"_blank\" href=https://colab.research.google.com/notebooks/data_table.ipynb>data table notebook</a>'\n",
              "          + ' to learn more about interactive tables.';\n",
              "        element.innerHTML = '';\n",
              "        dataTable['output_type'] = 'display_data';\n",
              "        await google.colab.output.renderOutput(dataTable, element);\n",
              "        const docLink = document.createElement('div');\n",
              "        docLink.innerHTML = docLinkHtml;\n",
              "        element.appendChild(docLink);\n",
              "      }\n",
              "    </script>\n",
              "  </div>\n",
              "\n",
              "\n",
              "    <div id=\"df-1abf232b-3ebe-4083-b8ed-af1c9161ee5d\">\n",
              "      <button class=\"colab-df-quickchart\" onclick=\"quickchart('df-1abf232b-3ebe-4083-b8ed-af1c9161ee5d')\"\n",
              "                title=\"Suggest charts\"\n",
              "                style=\"display:none;\">\n",
              "\n",
              "<svg xmlns=\"http://www.w3.org/2000/svg\" height=\"24px\"viewBox=\"0 0 24 24\"\n",
              "     width=\"24px\">\n",
              "    <g>\n",
              "        <path d=\"M19 3H5c-1.1 0-2 .9-2 2v14c0 1.1.9 2 2 2h14c1.1 0 2-.9 2-2V5c0-1.1-.9-2-2-2zM9 17H7v-7h2v7zm4 0h-2V7h2v10zm4 0h-2v-4h2v4z\"/>\n",
              "    </g>\n",
              "</svg>\n",
              "      </button>\n",
              "\n",
              "<style>\n",
              "  .colab-df-quickchart {\n",
              "      --bg-color: #E8F0FE;\n",
              "      --fill-color: #1967D2;\n",
              "      --hover-bg-color: #E2EBFA;\n",
              "      --hover-fill-color: #174EA6;\n",
              "      --disabled-fill-color: #AAA;\n",
              "      --disabled-bg-color: #DDD;\n",
              "  }\n",
              "\n",
              "  [theme=dark] .colab-df-quickchart {\n",
              "      --bg-color: #3B4455;\n",
              "      --fill-color: #D2E3FC;\n",
              "      --hover-bg-color: #434B5C;\n",
              "      --hover-fill-color: #FFFFFF;\n",
              "      --disabled-bg-color: #3B4455;\n",
              "      --disabled-fill-color: #666;\n",
              "  }\n",
              "\n",
              "  .colab-df-quickchart {\n",
              "    background-color: var(--bg-color);\n",
              "    border: none;\n",
              "    border-radius: 50%;\n",
              "    cursor: pointer;\n",
              "    display: none;\n",
              "    fill: var(--fill-color);\n",
              "    height: 32px;\n",
              "    padding: 0;\n",
              "    width: 32px;\n",
              "  }\n",
              "\n",
              "  .colab-df-quickchart:hover {\n",
              "    background-color: var(--hover-bg-color);\n",
              "    box-shadow: 0 1px 2px rgba(60, 64, 67, 0.3), 0 1px 3px 1px rgba(60, 64, 67, 0.15);\n",
              "    fill: var(--button-hover-fill-color);\n",
              "  }\n",
              "\n",
              "  .colab-df-quickchart-complete:disabled,\n",
              "  .colab-df-quickchart-complete:disabled:hover {\n",
              "    background-color: var(--disabled-bg-color);\n",
              "    fill: var(--disabled-fill-color);\n",
              "    box-shadow: none;\n",
              "  }\n",
              "\n",
              "  .colab-df-spinner {\n",
              "    border: 2px solid var(--fill-color);\n",
              "    border-color: transparent;\n",
              "    border-bottom-color: var(--fill-color);\n",
              "    animation:\n",
              "      spin 1s steps(1) infinite;\n",
              "  }\n",
              "\n",
              "  @keyframes spin {\n",
              "    0% {\n",
              "      border-color: transparent;\n",
              "      border-bottom-color: var(--fill-color);\n",
              "      border-left-color: var(--fill-color);\n",
              "    }\n",
              "    20% {\n",
              "      border-color: transparent;\n",
              "      border-left-color: var(--fill-color);\n",
              "      border-top-color: var(--fill-color);\n",
              "    }\n",
              "    30% {\n",
              "      border-color: transparent;\n",
              "      border-left-color: var(--fill-color);\n",
              "      border-top-color: var(--fill-color);\n",
              "      border-right-color: var(--fill-color);\n",
              "    }\n",
              "    40% {\n",
              "      border-color: transparent;\n",
              "      border-right-color: var(--fill-color);\n",
              "      border-top-color: var(--fill-color);\n",
              "    }\n",
              "    60% {\n",
              "      border-color: transparent;\n",
              "      border-right-color: var(--fill-color);\n",
              "    }\n",
              "    80% {\n",
              "      border-color: transparent;\n",
              "      border-right-color: var(--fill-color);\n",
              "      border-bottom-color: var(--fill-color);\n",
              "    }\n",
              "    90% {\n",
              "      border-color: transparent;\n",
              "      border-bottom-color: var(--fill-color);\n",
              "    }\n",
              "  }\n",
              "</style>\n",
              "\n",
              "      <script>\n",
              "        async function quickchart(key) {\n",
              "          const quickchartButtonEl =\n",
              "            document.querySelector('#' + key + ' button');\n",
              "          quickchartButtonEl.disabled = true;  // To prevent multiple clicks.\n",
              "          quickchartButtonEl.classList.add('colab-df-spinner');\n",
              "          try {\n",
              "            const charts = await google.colab.kernel.invokeFunction(\n",
              "                'suggestCharts', [key], {});\n",
              "          } catch (error) {\n",
              "            console.error('Error during call to suggestCharts:', error);\n",
              "          }\n",
              "          quickchartButtonEl.classList.remove('colab-df-spinner');\n",
              "          quickchartButtonEl.classList.add('colab-df-quickchart-complete');\n",
              "        }\n",
              "        (() => {\n",
              "          let quickchartButtonEl =\n",
              "            document.querySelector('#df-1abf232b-3ebe-4083-b8ed-af1c9161ee5d button');\n",
              "          quickchartButtonEl.style.display =\n",
              "            google.colab.kernel.accessAllowed ? 'block' : 'none';\n",
              "        })();\n",
              "      </script>\n",
              "    </div>\n",
              "\n",
              "  <div id=\"id_47e16731-ed7c-461e-96dc-61674ad6f940\">\n",
              "    <style>\n",
              "      .colab-df-generate {\n",
              "        background-color: #E8F0FE;\n",
              "        border: none;\n",
              "        border-radius: 50%;\n",
              "        cursor: pointer;\n",
              "        display: none;\n",
              "        fill: #1967D2;\n",
              "        height: 32px;\n",
              "        padding: 0 0 0 0;\n",
              "        width: 32px;\n",
              "      }\n",
              "\n",
              "      .colab-df-generate:hover {\n",
              "        background-color: #E2EBFA;\n",
              "        box-shadow: 0px 1px 2px rgba(60, 64, 67, 0.3), 0px 1px 3px 1px rgba(60, 64, 67, 0.15);\n",
              "        fill: #174EA6;\n",
              "      }\n",
              "\n",
              "      [theme=dark] .colab-df-generate {\n",
              "        background-color: #3B4455;\n",
              "        fill: #D2E3FC;\n",
              "      }\n",
              "\n",
              "      [theme=dark] .colab-df-generate:hover {\n",
              "        background-color: #434B5C;\n",
              "        box-shadow: 0px 1px 3px 1px rgba(0, 0, 0, 0.15);\n",
              "        filter: drop-shadow(0px 1px 2px rgba(0, 0, 0, 0.3));\n",
              "        fill: #FFFFFF;\n",
              "      }\n",
              "    </style>\n",
              "    <button class=\"colab-df-generate\" onclick=\"generateWithVariable('solution')\"\n",
              "            title=\"Generate code using this dataframe.\"\n",
              "            style=\"display:none;\">\n",
              "\n",
              "  <svg xmlns=\"http://www.w3.org/2000/svg\" height=\"24px\"viewBox=\"0 0 24 24\"\n",
              "       width=\"24px\">\n",
              "    <path d=\"M7,19H8.4L18.45,9,17,7.55,7,17.6ZM5,21V16.75L18.45,3.32a2,2,0,0,1,2.83,0l1.4,1.43a1.91,1.91,0,0,1,.58,1.4,1.91,1.91,0,0,1-.58,1.4L9.25,21ZM18.45,9,17,7.55Zm-12,3A5.31,5.31,0,0,0,4.9,8.1,5.31,5.31,0,0,0,1,6.5,5.31,5.31,0,0,0,4.9,4.9,5.31,5.31,0,0,0,6.5,1,5.31,5.31,0,0,0,8.1,4.9,5.31,5.31,0,0,0,12,6.5,5.46,5.46,0,0,0,6.5,12Z\"/>\n",
              "  </svg>\n",
              "    </button>\n",
              "    <script>\n",
              "      (() => {\n",
              "      const buttonEl =\n",
              "        document.querySelector('#id_47e16731-ed7c-461e-96dc-61674ad6f940 button.colab-df-generate');\n",
              "      buttonEl.style.display =\n",
              "        google.colab.kernel.accessAllowed ? 'block' : 'none';\n",
              "\n",
              "      buttonEl.onclick = () => {\n",
              "        google.colab.notebook.generateWithVariable('solution');\n",
              "      }\n",
              "      })();\n",
              "    </script>\n",
              "  </div>\n",
              "\n",
              "    </div>\n",
              "  </div>\n"
            ],
            "application/vnd.google.colaboratory.intrinsic+json": {
              "type": "dataframe",
              "variable_name": "solution",
              "summary": "{\n  \"name\": \"solution\",\n  \"rows\": 8,\n  \"fields\": [\n    {\n      \"column\": \"Region\",\n      \"properties\": {\n        \"dtype\": \"string\",\n        \"num_unique_values\": 8,\n        \"samples\": [\n          \"Midsouth\",\n          \"Southeast\",\n          \"Great_Lakes\"\n        ],\n        \"semantic_type\": \"\",\n        \"description\": \"\"\n      }\n    },\n    {\n      \"column\": \"Price\",\n      \"properties\": {\n        \"dtype\": \"number\",\n        \"std\": 0.2987511020326849,\n        \"min\": 1.202070213972019,\n        \"max\": 1.9999999981648195,\n        \"num_unique_values\": 8,\n        \"samples\": [\n          1.5088088123335266,\n          1.7463699627992966,\n          1.6638719848484431\n        ],\n        \"semantic_type\": \"\",\n        \"description\": \"\"\n      }\n    },\n    {\n      \"column\": \"Allocated\",\n      \"properties\": {\n        \"dtype\": \"number\",\n        \"std\": 1.4479813700086155,\n        \"min\": 0.91798395,\n        \"max\": 5.30746493,\n        \"num_unique_values\": 8,\n        \"samples\": [\n          5.27228953,\n          3.84859794,\n          3.44641434\n        ],\n        \"semantic_type\": \"\",\n        \"description\": \"\"\n      }\n    },\n    {\n      \"column\": \"Sold\",\n      \"properties\": {\n        \"dtype\": \"number\",\n        \"std\": 1.3108491616661848,\n        \"min\": 0.91798394,\n        \"max\": 5.30746492,\n        \"num_unique_values\": 8,\n        \"samples\": [\n          3.54544476,\n          3.84859792,\n          3.44641433\n        ],\n        \"semantic_type\": \"\",\n        \"description\": \"\"\n      }\n    },\n    {\n      \"column\": \"Wasted\",\n      \"properties\": {\n        \"dtype\": \"number\",\n        \"std\": 0.6105318189160756,\n        \"min\": 0.0,\n        \"max\": 1.72684477,\n        \"num_unique_values\": 4,\n        \"samples\": [\n          1.72684477,\n          2e-08,\n          1e-08\n        ],\n        \"semantic_type\": \"\",\n        \"description\": \"\"\n      }\n    },\n    {\n      \"column\": \"Pred_demand\",\n      \"properties\": {\n        \"dtype\": \"number\",\n        \"std\": 1.3108491594051288,\n        \"min\": 0.9179839482150955,\n        \"max\": 5.3074649171300745,\n        \"num_unique_values\": 8,\n        \"samples\": [\n          3.5454447659315225,\n          3.848597924790772,\n          3.44641433565159\n        ],\n        \"semantic_type\": \"\",\n        \"description\": \"\"\n      }\n    }\n  ]\n}"
            }
          },
          "metadata": {},
          "execution_count": 19
        }
      ],
      "source": [
        "solution = pd.DataFrame()\n",
        "solution['Region'] = R\n",
        "solution['Price'] = [p[r].X for r in R]\n",
        "solution['Allocated'] = [round(x[r].X,8) for r in R]\n",
        "solution['Sold'] = [round(s[r].X,8) for r in R]\n",
        "solution['Wasted'] = [round(w[r].X,8) for r in R]\n",
        "solution['Pred_demand'] = [(coef_dict['Intercept']+coef_dict['price']*p[r].X + coef_dict['C(region)[T.%s]'%r] + coef_dict['year_index']*(year-2015) + coef_dict['peak']*peak_or_not) for r in R]\n",
        "\n",
        "opt_revenue = m.ObjVal\n",
        "print(\"\\n The optimal net revenue: $%f million\"%opt_revenue)\n",
        "solution"
      ]
    },
    {
      "cell_type": "markdown",
      "id": "f475012d",
      "metadata": {
        "id": "f475012d"
      },
      "source": [
        "Let us now visualize a scatter plot between the price and the number of avocados sold (in millions) for the eight regions."
      ]
    },
    {
      "cell_type": "code",
      "execution_count": 20,
      "id": "551f4eb6",
      "metadata": {
        "colab": {
          "base_uri": "https://localhost:8080/",
          "height": 472
        },
        "id": "551f4eb6",
        "outputId": "94fde042-44ad-4991-f1ed-6f398096b8c7"
      },
      "outputs": [
        {
          "output_type": "display_data",
          "data": {
            "text/plain": [
              "<Figure size 640x480 with 1 Axes>"
            ],
            "image/png": "[encoded data removed]"
          },
          "metadata": {}
        },
        {
          "output_type": "stream",
          "name": "stdout",
          "text": [
            "The circles represent sales quantity and the cross markers represent the wasted quantity.\n"
          ]
        }
      ],
      "source": [
        "fig, ax = plt.subplots(1,1)\n",
        "plot_sol = sns.scatterplot(data=solution,x='Price',y='Sold',hue='Region',s=100)\n",
        "plot_waste = sns.scatterplot(data=solution,x='Price',y='Wasted',marker='x',hue='Region',s=100,legend = False)\n",
        "\n",
        "plot_sol.legend(loc='center left', bbox_to_anchor=(1.25, 0.5), ncol=1)\n",
        "plot_waste.legend(loc='center left', bbox_to_anchor=(1.25, 0.5), ncol=1)\n",
        "plt.ylim(0, 5)\n",
        "plt.xlim(1, 2.2)\n",
        "ax.set_xlabel('Price per avocado ($)')\n",
        "ax.set_ylabel('Number of avocados sold (millions)')\n",
        "plt.show()\n",
        "print(\"The circles represent sales quantity and the cross markers represent the wasted quantity.\")"
      ]
    },
    {
      "cell_type": "markdown",
      "id": "ed0d2b24",
      "metadata": {
        "id": "ed0d2b24"
      },
      "source": [
        "## Experiment with Parameter Settings\n",
        "\n",
        "While this notebook walked through how to build an optimization model piece-by-piece, the following code contains the overall optimization model. You can input different parameter values and see how the optimal solution changes.\n",
        "The value of $B$ can be controlled using the slider below the cell.\n"
      ]
    },
    {
      "cell_type": "code",
      "execution_count": 21,
      "id": "26fc6a49",
      "metadata": {
        "colab": {
          "base_uri": "https://localhost:8080/",
          "height": 1000,
          "referenced_widgets": [
            "996a1f3b9cf14e9b9da4ab10b360f420",
            "c0940f9b6d574d22832a3c39e1bcee3b",
            "a8a34546f0cb4450ab54b522b595ec7a",
            "40b8661bfad4476d9f8cb6c35991bf27",
            "366764180df84485980cbf5efb87aea2",
            "606630a4dc0245c0a298181209329d1c",
            "75a3cc5db71141afa3c0166d9cfad7c7"
          ]
        },
        "id": "26fc6a49",
        "outputId": "57a2c76b-7da2-4643-e2d7-dbf3da7acfa1"
      },
      "outputs": [
        {
          "output_type": "stream",
          "name": "stdout",
          "text": [
            "Select a value for the available inventory (B) (in millions):\n",
            "\n"
          ]
        },
        {
          "output_type": "display_data",
          "data": {
            "text/plain": [
              "interactive(children=(IntSlider(value=27, description='x', max=40, min=15), Output()), _dom_classes=('widget-i…"
            ],
            "application/vnd.jupyter.widget-view+json": {
              "version_major": 2,
              "version_minor": 0,
              "model_id": "996a1f3b9cf14e9b9da4ab10b360f420"
            }
          },
          "metadata": {}
        },
        {
          "output_type": "execute_result",
          "data": {
            "text/plain": [
              "<function __main__.solve_MIQP(x)>"
            ],
            "text/html": [
              "<div style=\"max-width:800px; border: 1px solid var(--colab-border-color);\"><style>\n",
              "      pre.function-repr-contents {\n",
              "        overflow-x: auto;\n",
              "        padding: 8px 12px;\n",
              "        max-height: 500px;\n",
              "      }\n",
              "\n",
              "      pre.function-repr-contents.function-repr-contents-collapsed {\n",
              "        cursor: pointer;\n",
              "        max-height: 100px;\n",
              "      }\n",
              "    </style>\n",
              "    <pre style=\"white-space: initial; background:\n",
              "         var(--colab-secondary-surface-color); padding: 8px 12px;\n",
              "         border-bottom: 1px solid var(--colab-border-color);\"><b>solve_MIQP</b><br/>def solve_MIQP(x)</pre><pre class=\"function-repr-contents function-repr-contents-collapsed\" style=\"\"><a class=\"filepath\" style=\"display:none\" href=\"#\">/tmp/ipython-input-1342639069.py</a>&lt;no docstring&gt;</pre></div>"
            ]
          },
          "metadata": {},
          "execution_count": 21
        }
      ],
      "source": [
        "from ipywidgets import interact, interactive, fixed, interact_manual\n",
        "import ipywidgets as widgets\n",
        "\n",
        "import plotly.express as px\n",
        "\n",
        "peak_or_not = 1 #\n",
        "year = 2021\n",
        "\n",
        "# Sets and parameters\n",
        "R = regions\n",
        "c_waste = 0.1\n",
        "c_transport = {'Great_Lakes': .3,'Midsouth':.1,'Northeast':.4,'Northern_New_England':.5,'SouthCentral':.3,'Southeast':.2,'West':.2,'Plains':.2}\n",
        "\n",
        "# Get the lower and upper bounds for price (p) and amount to be stocked (x) from the dataset\n",
        "price_min = dict(df.groupby('region')['price'].min())\n",
        "price_max = dict(df.groupby('region')['price'].max())\n",
        "sold_min = dict(df.groupby('region')['units_sold'].min())\n",
        "sold_max = dict(df.groupby('region')['units_sold'].max())\n",
        "\n",
        "\n",
        "\n",
        "def solve_MIQP(x):\n",
        "    B = x\n",
        "\n",
        "    # Initialize Model\n",
        "    m = gp.Model(\"Avocado_Price_Allocation\")\n",
        "\n",
        "    # Variables. Adjust the bounds here\n",
        "    x = m.addVars(R,name=\"x\",lb=sold_min,ub=sold_max)\n",
        "    p = m.addVars(R,name=\"p\",lb=0, ub=2)\n",
        "    s = m.addVars(R,name=\"s\",lb=0)\n",
        "    w = m.addVars(R,name=\"w\",lb=0)\n",
        "    i = m.addVars(R,name=\"i\",vtype=GRB.BINARY)\n",
        "\n",
        "    # Predictor expression for demand\n",
        "    d = {r: (coef_dict['Intercept']+coef_dict['price']*p[r] + coef_dict['C(region)[T.%s]'%r] + coef_dict['year_index']*(year-2015) + coef_dict['peak']*peak_or_not) for r in R}\n",
        "\n",
        "\n",
        "    # Set the objective\n",
        "    m.ModelSense = GRB.MAXIMIZE\n",
        "    m.setObjective(sum(p[r]*s[r] - c_waste*w[r] - c_transport[r]*x[r] for r in R))\n",
        "\n",
        "    # Add the constraints\n",
        "    m.addConstrs((s[r] <= x[r] for r in R))\n",
        "    m.addConstrs((s[r] <= d[r] for r in R))\n",
        "    m.addConstrs((x[r] == w[r]+s[r] for r in R))\n",
        "    m.addConstr(sum(x[r] for r in R) == B)\n",
        "\n",
        "    # Solve\n",
        "    m.setParam('OutputFlag', 0)\n",
        "    m.Params.NonConvex = 2\n",
        "    m.update()\n",
        "    m.optimize()\n",
        "    if m.status == 4:\n",
        "        print('The problem is infeasible. Try changing the parameter values.')\n",
        "    else:\n",
        "        global solution, opt_revenue\n",
        "        solution = pd.DataFrame()\n",
        "        solution['Region'] = R\n",
        "        solution['Price'] = [p[r].X for r in R]\n",
        "        solution['Allocated'] = [round(x[r].X,8) for r in R]\n",
        "        solution['Sold'] = [round(s[r].X,8) for r in R]\n",
        "        solution['Wasted'] = [round(w[r].X,8) for r in R]\n",
        "        solution['Demand'] = [(coef_dict['Intercept']+coef_dict['price']*p[r].X + coef_dict['C(region)[T.%s]'%r] + coef_dict['year_index']*(year-2015) + coef_dict['peak']*peak_or_not) for r in R]\n",
        "\n",
        "        opt_revenue = m.ObjVal\n",
        "        if display_figures:\n",
        "            print(\"\\n Net revenue: $%f million\"%opt_revenue)\n",
        "            print(\"\\nThe optimal solution is as follows. Price per avocado in dollars. Allocated avocados, wasted avocados, and predicted demand in millions.\\n\")\n",
        "            print(solution)\n",
        "\n",
        "            print(\"\\n Scatter plot of price vs number of avocados sold (millions) for the eight regions:\")\n",
        "            fig, ax = plt.subplots(1,1)\n",
        "            plot_sol = sns.scatterplot(data=solution,x='Price',y='Sold',hue='Region',s=100)\n",
        "            plot_waste = sns.scatterplot(data=solution,x='Price',y='Wasted',marker='x',hue='Region',s=100,legend = False)\n",
        "\n",
        "            plot_sol.legend(loc='center left', bbox_to_anchor=(1.25, 0.5), ncol=1)\n",
        "            plot_waste.legend(loc='center left', bbox_to_anchor=(1.25, 0.5), ncol=1)\n",
        "            plt.ylim(0, 5)\n",
        "            plt.xlim(1, 2.2)\n",
        "            ax.set_xlabel('Price per avocado ($)')\n",
        "            ax.set_ylabel('Number of avocados sold (millions)')\n",
        "            plt.show()\n",
        "            print(\"The circles represent sales quantity and the cross markers represent the wasted quantity.\")\n",
        "\n",
        "\n",
        "        return m.ObjVal, solution\n",
        "\n",
        "\n",
        "display_figures = 1\n",
        "print(\"Select a value for the available inventory (B) (in millions):\\n\")\n",
        "interact(solve_MIQP, x=(15,40,1))\n",
        "\n"
      ]
    },
    {
      "cell_type": "markdown",
      "id": "d05d06ab",
      "metadata": {
        "id": "d05d06ab"
      },
      "source": [
        "**Observations**:\n",
        "- When the supply is highly constrained, i.e., for a very small B, the model sets high prices => demand is low => allocation satisfies the demand exactly\n",
        "- With increasing supply => the prices go down => demand goes up => the allocation can continue to satisfy demand\n",
        "- With a very high supply, the wasteage starts going up\n",
        ""
      ]
    },
    {
      "cell_type": "markdown",
      "id": "749247cc",
      "metadata": {
        "id": "749247cc"
      },
      "source": [
        "## Compare Optimal Versus Actual Net Revenue"
      ]
    },
    {
      "cell_type": "markdown",
      "id": "92429363",
      "metadata": {
        "id": "92429363"
      },
      "source": [
        "Finally, we can run the optimization model for each week in a year and compare the optimal predicted revenue with the actual weekly revenue.\n",
        "Let us assume that there were no wastage costs in the actual weekly number since this information is unknown."
      ]
    },
    {
      "cell_type": "code",
      "execution_count": 22,
      "id": "96ba33e0",
      "metadata": {
        "scrolled": true,
        "colab": {
          "base_uri": "https://localhost:8080/",
          "height": 496
        },
        "id": "96ba33e0",
        "outputId": "3d21b943-ca5d-42cf-fc6c-8f333a9e69e2"
      },
      "outputs": [
        {
          "output_type": "display_data",
          "data": {
            "text/plain": [
              "<Figure size 640x480 with 1 Axes>"
            ],
            "image/png": "[encoded data removed]"
          },
          "metadata": {}
        },
        {
          "output_type": "stream",
          "name": "stdout",
          "text": [
            "For the average peak season week in 2021, the optimal solution yields 35.288636 % more net revenue than the actual supply chain.\n"
          ]
        }
      ],
      "source": [
        "# Create a subset of data for the given year and season\n",
        "df_subset = df[(df['year']==year) & (df['peak']==peak_or_not)]\n",
        "df_subset['price_minus_transport'] = df_subset['price'] - df_subset['region'].map(c_transport)\n",
        "dates = sorted(list(set(df_subset.date)))\n",
        "\n",
        "# Run the optimizer for each week\n",
        "actual, optimal, display_figures = [], [], 0\n",
        "for date in dates:\n",
        "    df_date = df_subset[df_subset['date']==date]\n",
        "    weekly_sold = (df_date['units_sold']).values.sum()\n",
        "    optimal.append(solve_MIQP(weekly_sold)[0])\n",
        "\n",
        "    actual_weekly_revenue = (df_date['units_sold']*(df_date['price_minus_transport'])).values.sum()\n",
        "    actual.append(actual_weekly_revenue)\n",
        "\n",
        "# Plot the two scatter plots\n",
        "fig_comparison, ax_comparison = plt.subplots(1,1)\n",
        "actual_plot = plt.scatter(dates, actual)\n",
        "optimal_plot = plt.scatter(dates, optimal)\n",
        "plt.legend((optimal_plot,actual_plot),('Optimal weekly net revenue','Actual weekly net revenue'),loc='center left', bbox_to_anchor=(1.25, 0.5), ncol=1)\n",
        "x_ticks_labels = list(dict.fromkeys([date.strftime(\"%B\") for date in  dates]))\n",
        "ax_comparison.set_xticklabels(x_ticks_labels, rotation=20, fontsize=12)\n",
        "ax_comparison.set_xlabel('Date')\n",
        "ax_comparison.set_ylabel('Net revenue in $million')\n",
        "\n",
        "plt.show()\n",
        "\n",
        "difference = [(i - j)/j for i, j in zip(optimal, actual)]\n",
        "print(\"For the average peak season week in %i, the optimal solution yields %f %% more net revenue than the actual supply chain.\"%(year,100*sum(difference)/len(difference)))\n"
      ]
    },
    {
      "cell_type": "markdown",
      "id": "f5c053f3",
      "metadata": {
        "id": "f5c053f3"
      },
      "source": [
        "Now, we can compare the price and sales between the optimal solution and actual data for each week. Select a week using the interactive tool and see the difference."
      ]
    },
    {
      "cell_type": "code",
      "execution_count": 23,
      "id": "aaf20e93",
      "metadata": {
        "colab": {
          "base_uri": "https://localhost:8080/",
          "height": 518,
          "referenced_widgets": [
            "b017cee8b882469e964c111f75de405c",
            "07a87635680d4316b5e596cf743e9f6b",
            "e3ed485ce00d4b1582000609c809f840",
            "84ea3562cec9437eb4fb73f2ef1d47d4",
            "b2f561fb06164eb493cbde7dbbd6e1c4",
            "e49c595b83b94b639fe1044754f12dbd",
            "800bd063b2a14e7d870d4c6b71d552b8"
          ]
        },
        "id": "aaf20e93",
        "outputId": "4753a7cd-a687-4fde-fa51-e7fdab5eefee"
      },
      "outputs": [
        {
          "output_type": "stream",
          "name": "stdout",
          "text": [
            "Select a value for the available inventory (B) (in millions):\n",
            "\n"
          ]
        },
        {
          "output_type": "display_data",
          "data": {
            "text/plain": [
              "interactive(children=(Dropdown(description='x', options=(Timestamp('2021-02-07 00:00:00'), Timestamp('2021-02-…"
            ],
            "application/vnd.jupyter.widget-view+json": {
              "version_major": 2,
              "version_minor": 0,
              "model_id": "b017cee8b882469e964c111f75de405c"
            }
          },
          "metadata": {}
        },
        {
          "output_type": "execute_result",
          "data": {
            "text/plain": [
              "<function __main__.compare_with_actual(x)>"
            ],
            "text/html": [
              "<div style=\"max-width:800px; border: 1px solid var(--colab-border-color);\"><style>\n",
              "      pre.function-repr-contents {\n",
              "        overflow-x: auto;\n",
              "        padding: 8px 12px;\n",
              "        max-height: 500px;\n",
              "      }\n",
              "\n",
              "      pre.function-repr-contents.function-repr-contents-collapsed {\n",
              "        cursor: pointer;\n",
              "        max-height: 100px;\n",
              "      }\n",
              "    </style>\n",
              "    <pre style=\"white-space: initial; background:\n",
              "         var(--colab-secondary-surface-color); padding: 8px 12px;\n",
              "         border-bottom: 1px solid var(--colab-border-color);\"><b>compare_with_actual</b><br/>def compare_with_actual(x)</pre><pre class=\"function-repr-contents function-repr-contents-collapsed\" style=\"\"><a class=\"filepath\" style=\"display:none\" href=\"#\">/tmp/ipython-input-1069401174.py</a>&lt;no docstring&gt;</pre></div>"
            ]
          },
          "metadata": {},
          "execution_count": 23
        }
      ],
      "source": [
        "def compare_with_actual(x):\n",
        "    df_date = df_subset[df_subset['date']==x]\n",
        "    weekly_sold = (df_date['units_sold']).values.sum()\n",
        "    print(weekly_sold)\n",
        "    opt_revenue, opt_solution = solve_MIQP(weekly_sold)\n",
        "\n",
        "    df_comparison = df_date.merge(opt_solution, left_on='region', right_on='Region')\n",
        "\n",
        "    df_comparison = df_comparison[['Region','price','Price','units_sold','Sold']]\n",
        "    df_comparison = df_comparison.rename({'price': 'Actual price', 'Price': 'Optimal price','units_sold': 'Actual sold', 'Sold': 'Optimal sold'}, axis=1)\n",
        "    print(df_comparison.sort_values(by='Region').reset_index(drop=True))\n",
        "\n",
        "display_figures = 0\n",
        "print(\"Select a value for the available inventory (B) (in millions):\\n\")\n",
        "interact(compare_with_actual, x=dates)\n"
      ]
    },
    {
      "cell_type": "markdown",
      "id": "8d07d2fd",
      "metadata": {
        "id": "8d07d2fd"
      },
      "source": [
        "Notice that for certain weeks and certain regions, the optimizer sets a higher price than the actual price if it foresees that even the dip in demand is worth it. In certain other cases, a lower price is preferred. Overall, the optimal solution rakes in close to 35% more net revenue than the actual case.\n",
        "This analysis demonstrates that the optimal pricing and supply of avocados could improve the efficiency of the avocado supply chain.\n",
        "\n",
        "With the right optimization tools, every day could be game day."
      ]
    },
    {
      "cell_type": "code",
      "execution_count": 24,
      "id": "25196f57",
      "metadata": {
        "colab": {
          "base_uri": "https://localhost:8080/"
        },
        "id": "25196f57",
        "outputId": "ebfd39d4-a4b9-4641-97e3-8dc27b29390c"
      },
      "outputs": [
        {
          "output_type": "stream",
          "name": "stdout",
          "text": [
            "Freeing default Gurobi environment\n"
          ]
        }
      ],
      "source": [
        "gp.disposeDefaultEnv()"
      ]
    }
  ],
  "metadata": {
    "kernelspec": {
      "display_name": "Python 3 (ipykernel)",
      "language": "python",
      "name": "python3"
    },
    "language_info": {
      "codemirror_mode": {
        "name": "ipython",
        "version": 3
      },
      "file_extension": ".py",
      "mimetype": "text/x-python",
      "name": "python",
      "nbconvert_exporter": "python",
      "pygments_lexer": "ipython3",
      "version": "3.9.7"
    },
    "colab": {
      "provenance": [],
      "include_colab_link": true
    },
    "widgets": {
      "application/vnd.jupyter.widget-state+json": {
        "996a1f3b9cf14e9b9da4ab10b360f420": {
          "model_module": "@jupyter-widgets/controls",
          "model_name": "VBoxModel",
          "model_module_version": "1.5.0",
          "state": {
            "_dom_classes": [
              "widget-interact"
            ],
            "_model_module": "@jupyter-widgets/controls",
            "_model_module_version": "1.5.0",
            "_model_name": "VBoxModel",
            "_view_count": null,
            "_view_module": "@jupyter-widgets/controls",
            "_view_module_version": "1.5.0",
            "_view_name": "VBoxView",
            "box_style": "",
            "children": [
              "IPY_MODEL_c0940f9b6d574d22832a3c39e1bcee3b",
              "IPY_MODEL_a8a34546f0cb4450ab54b522b595ec7a"
            ],
            "layout": "IPY_MODEL_40b8661bfad4476d9f8cb6c35991bf27"
          }
        },
        "c0940f9b6d574d22832a3c39e1bcee3b": {
          "model_module": "@jupyter-widgets/controls",
          "model_name": "IntSliderModel",
          "model_module_version": "1.5.0",
          "state": {
            "_dom_classes": [],
            "_model_module": "@jupyter-widgets/controls",
            "_model_module_version": "1.5.0",
            "_model_name": "IntSliderModel",
            "_view_count": null,
            "_view_module": "@jupyter-widgets/controls",
            "_view_module_version": "1.5.0",
            "_view_name": "IntSliderView",
            "continuous_update": true,
            "description": "x",
            "description_tooltip": null,
            "disabled": false,
            "layout": "IPY_MODEL_366764180df84485980cbf5efb87aea2",
            "max": 40,
            "min": 15,
            "orientation": "horizontal",
            "readout": true,
            "readout_format": "d",
            "step": 1,
            "style": "IPY_MODEL_606630a4dc0245c0a298181209329d1c",
            "value": 19
          }
        },
        "a8a34546f0cb4450ab54b522b595ec7a": {
          "model_module": "@jupyter-widgets/output",
          "model_name": "OutputModel",
          "model_module_version": "1.0.0",
          "state": {
            "_dom_classes": [],
            "_model_module": "@jupyter-widgets/output",
            "_model_module_version": "1.0.0",
            "_model_name": "OutputModel",
            "_view_count": null,
            "_view_module": "@jupyter-widgets/output",
            "_view_module_version": "1.0.0",
            "_view_name": "OutputView",
            "layout": "IPY_MODEL_75a3cc5db71141afa3c0166d9cfad7c7",
            "msg_id": "",
            "outputs": [
              {
                "output_type": "stream",
                "name": "stdout",
                "text": [
                  "\n",
                  " Net revenue: $33.089046 million\n",
                  "\n",
                  "The optimal solution is as follows. Price per avocado in dollars. Allocated avocados, wasted avocados, and predicted demand in millions.\n",
                  "\n",
                  "                 Region     Price  Allocated      Sold  Wasted    Demand\n",
                  "0           Great_Lakes  2.000000   2.063574  2.063574     0.0  2.544896\n",
                  "1              Midsouth  2.000000   2.302203  2.302203     0.0  2.302203\n",
                  "2             Northeast  2.000000   2.364425  2.364425     0.0  3.977916\n",
                  "3  Northern_New_England  1.685068   0.219690  0.219690     0.0  0.219690\n",
                  "4          SouthCentral  2.000000   3.687130  3.687130     0.0  4.258708\n",
                  "5             Southeast  2.000000   2.804795  2.804795     0.0  3.128886\n",
                  "6                  West  2.000000   4.499245  4.499245     0.0  5.146696\n",
                  "7                Plains  1.850676   1.058938  1.058938     0.0  1.058938\n",
                  "\n",
                  " Scatter plot of price vs number of avocados sold (millions) for the eight regions:\n"
                ]
              },
              {
                "output_type": "display_data",
                "data": {
                  "text/plain": "<Figure size 640x480 with 1 Axes>",
                  "image/png": "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\n"
                },
                "metadata": {}
              },
              {
                "output_type": "stream",
                "name": "stdout",
                "text": [
                  "The circles represent sales quantity and the cross markers represent the wasted quantity.\n"
                ]
              },
              {
                "output_type": "display_data",
                "data": {
                  "text/plain": "(33.08904627039019,\n                  Region     Price  Allocated      Sold  Wasted    Demand\n 0           Great_Lakes  2.000000   2.063574  2.063574     0.0  2.544896\n 1              Midsouth  2.000000   2.302203  2.302203     0.0  2.302203\n 2             Northeast  2.000000   2.364425  2.364425     0.0  3.977916\n 3  Northern_New_England  1.685068   0.219690  0.219690     0.0  0.219690\n 4          SouthCentral  2.000000   3.687130  3.687130     0.0  4.258708\n 5             Southeast  2.000000   2.804795  2.804795     0.0  3.128886\n 6                  West  2.000000   4.499245  4.499245     0.0  5.146696\n 7                Plains  1.850676   1.058938  1.058938     0.0  1.058938)"
                },
                "metadata": {}
              }
            ]
          }
        },
        "40b8661bfad4476d9f8cb6c35991bf27": {
          "model_module": "@jupyter-widgets/base",
          "model_name": "LayoutModel",
          "model_module_version": "1.2.0",
          "state": {
            "_model_module": "@jupyter-widgets/base",
            "_model_module_version": "1.2.0",
            "_model_name": "LayoutModel",
            "_view_count": null,
            "_view_module": "@jupyter-widgets/base",
            "_view_module_version": "1.2.0",
            "_view_name": "LayoutView",
            "align_content": null,
            "align_items": null,
            "align_self": null,
            "border": null,
            "bottom": null,
            "display": null,
            "flex": null,
            "flex_flow": null,
            "grid_area": null,
            "grid_auto_columns": null,
            "grid_auto_flow": null,
            "grid_auto_rows": null,
            "grid_column": null,
            "grid_gap": null,
            "grid_row": null,
            "grid_template_areas": null,
            "grid_template_columns": null,
            "grid_template_rows": null,
            "height": null,
            "justify_content": null,
            "justify_items": null,
            "left": null,
            "margin": null,
            "max_height": null,
            "max_width": null,
            "min_height": null,
            "min_width": null,
            "object_fit": null,
            "object_position": null,
            "order": null,
            "overflow": null,
            "overflow_x": null,
            "overflow_y": null,
            "padding": null,
            "right": null,
            "top": null,
            "visibility": null,
            "width": null
          }
        },
        "366764180df84485980cbf5efb87aea2": {
          "model_module": "@jupyter-widgets/base",
          "model_name": "LayoutModel",
          "model_module_version": "1.2.0",
          "state": {
            "_model_module": "@jupyter-widgets/base",
            "_model_module_version": "1.2.0",
            "_model_name": "LayoutModel",
            "_view_count": null,
            "_view_module": "@jupyter-widgets/base",
            "_view_module_version": "1.2.0",
            "_view_name": "LayoutView",
            "align_content": null,
            "align_items": null,
            "align_self": null,
            "border": null,
            "bottom": null,
            "display": null,
            "flex": null,
            "flex_flow": null,
            "grid_area": null,
            "grid_auto_columns": null,
            "grid_auto_flow": null,
            "grid_auto_rows": null,
            "grid_column": null,
            "grid_gap": null,
            "grid_row": null,
            "grid_template_areas": null,
            "grid_template_columns": null,
            "grid_template_rows": null,
            "height": null,
            "justify_content": null,
            "justify_items": null,
            "left": null,
            "margin": null,
            "max_height": null,
            "max_width": null,
            "min_height": null,
            "min_width": null,
            "object_fit": null,
            "object_position": null,
            "order": null,
            "overflow": null,
            "overflow_x": null,
            "overflow_y": null,
            "padding": null,
            "right": null,
            "top": null,
            "visibility": null,
            "width": null
          }
        },
        "606630a4dc0245c0a298181209329d1c": {
          "model_module": "@jupyter-widgets/controls",
          "model_name": "SliderStyleModel",
          "model_module_version": "1.5.0",
          "state": {
            "_model_module": "@jupyter-widgets/controls",
            "_model_module_version": "1.5.0",
            "_model_name": "SliderStyleModel",
            "_view_count": null,
            "_view_module": "@jupyter-widgets/base",
            "_view_module_version": "1.2.0",
            "_view_name": "StyleView",
            "description_width": "",
            "handle_color": null
          }
        },
        "75a3cc5db71141afa3c0166d9cfad7c7": {
          "model_module": "@jupyter-widgets/base",
          "model_name": "LayoutModel",
          "model_module_version": "1.2.0",
          "state": {
            "_model_module": "@jupyter-widgets/base",
            "_model_module_version": "1.2.0",
            "_model_name": "LayoutModel",
            "_view_count": null,
            "_view_module": "@jupyter-widgets/base",
            "_view_module_version": "1.2.0",
            "_view_name": "LayoutView",
            "align_content": null,
            "align_items": null,
            "align_self": null,
            "border": null,
            "bottom": null,
            "display": null,
            "flex": null,
            "flex_flow": null,
            "grid_area": null,
            "grid_auto_columns": null,
            "grid_auto_flow": null,
            "grid_auto_rows": null,
            "grid_column": null,
            "grid_gap": null,
            "grid_row": null,
            "grid_template_areas": null,
            "grid_template_columns": null,
            "grid_template_rows": null,
            "height": null,
            "justify_content": null,
            "justify_items": null,
            "left": null,
            "margin": null,
            "max_height": null,
            "max_width": null,
            "min_height": null,
            "min_width": null,
            "object_fit": null,
            "object_position": null,
            "order": null,
            "overflow": null,
            "overflow_x": null,
            "overflow_y": null,
            "padding": null,
            "right": null,
            "top": null,
            "visibility": null,
            "width": null
          }
        },
        "b017cee8b882469e964c111f75de405c": {
          "model_module": "@jupyter-widgets/controls",
          "model_name": "VBoxModel",
          "model_module_version": "1.5.0",
          "state": {
            "_dom_classes": [
              "widget-interact"
            ],
            "_model_module": "@jupyter-widgets/controls",
            "_model_module_version": "1.5.0",
            "_model_name": "VBoxModel",
            "_view_count": null,
            "_view_module": "@jupyter-widgets/controls",
            "_view_module_version": "1.5.0",
            "_view_name": "VBoxView",
            "box_style": "",
            "children": [
              "IPY_MODEL_07a87635680d4316b5e596cf743e9f6b",
              "IPY_MODEL_e3ed485ce00d4b1582000609c809f840"
            ],
            "layout": "IPY_MODEL_84ea3562cec9437eb4fb73f2ef1d47d4"
          }
        },
        "07a87635680d4316b5e596cf743e9f6b": {
          "model_module": "@jupyter-widgets/controls",
          "model_name": "DropdownModel",
          "model_module_version": "1.5.0",
          "state": {
            "_dom_classes": [],
            "_model_module": "@jupyter-widgets/controls",
            "_model_module_version": "1.5.0",
            "_model_name": "DropdownModel",
            "_options_labels": [
              "2021-02-07 00:00:00",
              "2021-02-14 00:00:00",
              "2021-02-21 00:00:00",
              "2021-02-28 00:00:00",
              "2021-03-07 00:00:00",
              "2021-03-14 00:00:00",
              "2021-03-21 00:00:00",
              "2021-03-28 00:00:00",
              "2021-04-04 00:00:00",
              "2021-04-11 00:00:00",
              "2021-04-18 00:00:00",
              "2021-04-25 00:00:00",
              "2021-05-02 00:00:00",
              "2021-05-09 00:00:00",
              "2021-05-16 00:00:00",
              "2021-05-23 00:00:00",
              "2021-05-30 00:00:00",
              "2021-06-06 00:00:00",
              "2021-06-13 00:00:00",
              "2021-06-20 00:00:00",
              "2021-06-27 00:00:00",
              "2021-07-04 00:00:00",
              "2021-07-11 00:00:00",
              "2021-07-18 00:00:00",
              "2021-07-25 00:00:00"
            ],
            "_view_count": null,
            "_view_module": "@jupyter-widgets/controls",
            "_view_module_version": "1.5.0",
            "_view_name": "DropdownView",
            "description": "x",
            "description_tooltip": null,
            "disabled": false,
            "index": 0,
            "layout": "IPY_MODEL_b2f561fb06164eb493cbde7dbbd6e1c4",
            "style": "IPY_MODEL_e49c595b83b94b639fe1044754f12dbd"
          }
        },
        "e3ed485ce00d4b1582000609c809f840": {
          "model_module": "@jupyter-widgets/output",
          "model_name": "OutputModel",
          "model_module_version": "1.0.0",
          "state": {
            "_dom_classes": [],
            "_model_module": "@jupyter-widgets/output",
            "_model_module_version": "1.0.0",
            "_model_name": "OutputModel",
            "_view_count": null,
            "_view_module": "@jupyter-widgets/output",
            "_view_module_version": "1.0.0",
            "_view_name": "OutputView",
            "layout": "IPY_MODEL_800bd063b2a14e7d870d4c6b71d552b8",
            "msg_id": "",
            "outputs": [
              {
                "output_type": "stream",
                "name": "stdout",
                "text": [
                  "46.198996519999994\n",
                  "                 Region  Actual price  Optimal price  Actual sold  \\\n",
                  "0           Great_Lakes      0.795779       1.527396     5.534257   \n",
                  "1              Midsouth      0.887154       1.472333     5.237337   \n",
                  "2             Northeast      1.037254       1.902525     7.307711   \n",
                  "3  Northern_New_England      0.879489       1.368205     0.737616   \n",
                  "4                Plains      0.834592       1.115594     2.819025   \n",
                  "5          SouthCentral      0.649054       1.916232     7.989053   \n",
                  "6             Southeast      0.815569       1.659894     7.322009   \n",
                  "7                  West      0.833758       2.000000     9.251989   \n",
                  "\n",
                  "   Optimal sold  \n",
                  "0      3.586407  \n",
                  "1      3.465060  \n",
                  "2      4.192728  \n",
                  "3      0.917984  \n",
                  "4      2.678890  \n",
                  "5      4.443313  \n",
                  "6      3.878402  \n",
                  "7      5.146696  \n"
                ]
              }
            ]
          }
        },
        "84ea3562cec9437eb4fb73f2ef1d47d4": {
          "model_module": "@jupyter-widgets/base",
          "model_name": "LayoutModel",
          "model_module_version": "1.2.0",
          "state": {
            "_model_module": "@jupyter-widgets/base",
            "_model_module_version": "1.2.0",
            "_model_name": "LayoutModel",
            "_view_count": null,
            "_view_module": "@jupyter-widgets/base",
            "_view_module_version": "1.2.0",
            "_view_name": "LayoutView",
            "align_content": null,
            "align_items": null,
            "align_self": null,
            "border": null,
            "bottom": null,
            "display": null,
            "flex": null,
            "flex_flow": null,
            "grid_area": null,
            "grid_auto_columns": null,
            "grid_auto_flow": null,
            "grid_auto_rows": null,
            "grid_column": null,
            "grid_gap": null,
            "grid_row": null,
            "grid_template_areas": null,
            "grid_template_columns": null,
            "grid_template_rows": null,
            "height": null,
            "justify_content": null,
            "justify_items": null,
            "left": null,
            "margin": null,
            "max_height": null,
            "max_width": null,
            "min_height": null,
            "min_width": null,
            "object_fit": null,
            "object_position": null,
            "order": null,
            "overflow": null,
            "overflow_x": null,
            "overflow_y": null,
            "padding": null,
            "right": null,
            "top": null,
            "visibility": null,
            "width": null
          }
        },
        "b2f561fb06164eb493cbde7dbbd6e1c4": {
          "model_module": "@jupyter-widgets/base",
          "model_name": "LayoutModel",
          "model_module_version": "1.2.0",
          "state": {
            "_model_module": "@jupyter-widgets/base",
            "_model_module_version": "1.2.0",
            "_model_name": "LayoutModel",
            "_view_count": null,
            "_view_module": "@jupyter-widgets/base",
            "_view_module_version": "1.2.0",
            "_view_name": "LayoutView",
            "align_content": null,
            "align_items": null,
            "align_self": null,
            "border": null,
            "bottom": null,
            "display": null,
            "flex": null,
            "flex_flow": null,
            "grid_area": null,
            "grid_auto_columns": null,
            "grid_auto_flow": null,
            "grid_auto_rows": null,
            "grid_column": null,
            "grid_gap": null,
            "grid_row": null,
            "grid_template_areas": null,
            "grid_template_columns": null,
            "grid_template_rows": null,
            "height": null,
            "justify_content": null,
            "justify_items": null,
            "left": null,
            "margin": null,
            "max_height": null,
            "max_width": null,
            "min_height": null,
            "min_width": null,
            "object_fit": null,
            "object_position": null,
            "order": null,
            "overflow": null,
            "overflow_x": null,
            "overflow_y": null,
            "padding": null,
            "right": null,
            "top": null,
            "visibility": null,
            "width": null
          }
        },
        "e49c595b83b94b639fe1044754f12dbd": {
          "model_module": "@jupyter-widgets/controls",
          "model_name": "DescriptionStyleModel",
          "model_module_version": "1.5.0",
          "state": {
            "_model_module": "@jupyter-widgets/controls",
            "_model_module_version": "1.5.0",
            "_model_name": "DescriptionStyleModel",
            "_view_count": null,
            "_view_module": "@jupyter-widgets/base",
            "_view_module_version": "1.2.0",
            "_view_name": "StyleView",
            "description_width": ""
          }
        },
        "800bd063b2a14e7d870d4c6b71d552b8": {
          "model_module": "@jupyter-widgets/base",
          "model_name": "LayoutModel",
          "model_module_version": "1.2.0",
          "state": {
            "_model_module": "@jupyter-widgets/base",
            "_model_module_version": "1.2.0",
            "_model_name": "LayoutModel",
            "_view_count": null,
            "_view_module": "@jupyter-widgets/base",
            "_view_module_version": "1.2.0",
            "_view_name": "LayoutView",
            "align_content": null,
            "align_items": null,
            "align_self": null,
            "border": null,
            "bottom": null,
            "display": null,
            "flex": null,
            "flex_flow": null,
            "grid_area": null,
            "grid_auto_columns": null,
            "grid_auto_flow": null,
            "grid_auto_rows": null,
            "grid_column": null,
            "grid_gap": null,
            "grid_row": null,
            "grid_template_areas": null,
            "grid_template_columns": null,
            "grid_template_rows": null,
            "height": null,
            "justify_content": null,
            "justify_items": null,
            "left": null,
            "margin": null,
            "max_height": null,
            "max_width": null,
            "min_height": null,
            "min_width": null,
            "object_fit": null,
            "object_position": null,
            "order": null,
            "overflow": null,
            "overflow_x": null,
            "overflow_y": null,
            "padding": null,
            "right": null,
            "top": null,
            "visibility": null,
            "width": null
          }
        }
      }
    }
  },
  "nbformat": 4,
  "nbformat_minor": 5
}